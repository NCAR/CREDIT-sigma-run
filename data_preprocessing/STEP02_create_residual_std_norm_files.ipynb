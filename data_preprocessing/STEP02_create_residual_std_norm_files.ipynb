{
 "cells": [
  {
   "cell_type": "markdown",
   "id": "d779c3f3-dd5e-4194-8925-95e37d9660ec",
   "metadata": {},
   "source": [
    "# Create resaidual norm files for CREDIT"
   ]
  },
  {
   "cell_type": "code",
   "execution_count": 1,
   "id": "3e399085-3c08-46c9-8e07-fa7e3e0b63c7",
   "metadata": {},
   "outputs": [],
   "source": [
    "import os\n",
    "import yaml\n",
    "import copy\n",
    "import numpy as np\n",
    "import xarray as xr"
   ]
  },
  {
   "cell_type": "code",
   "execution_count": 2,
   "id": "7ce73a4a-5b8b-4b22-958f-56a7eaa38881",
   "metadata": {},
   "outputs": [],
   "source": [
    "from scipy.stats import gmean"
   ]
  },
  {
   "cell_type": "code",
   "execution_count": 3,
   "id": "6c58f08d-db2c-4606-a52d-93ef9f13bdd9",
   "metadata": {},
   "outputs": [],
   "source": [
    "import matplotlib.pyplot as plt\n",
    "%matplotlib inline"
   ]
  },
  {
   "cell_type": "markdown",
   "id": "2018bd3e-64bd-4953-a58a-06a0cb311c34",
   "metadata": {},
   "source": [
    "## File creation"
   ]
  },
  {
   "cell_type": "markdown",
   "id": "e21cdcff-6ae7-4a36-a68e-9b304dea5a52",
   "metadata": {},
   "source": [
    "### combining 6 hourly std and residual std values"
   ]
  },
  {
   "cell_type": "code",
   "execution_count": 4,
   "id": "94584383-7a21-4e92-95c4-bfa075634cb4",
   "metadata": {},
   "outputs": [],
   "source": [
    "# get variable information from data_preprocessing/config\n",
    "config_name = os.path.realpath('data_config_mlevel_6h.yml')\n",
    "\n",
    "with open(config_name, 'r') as stream:\n",
    "    conf = yaml.safe_load(stream)"
   ]
  },
  {
   "cell_type": "code",
   "execution_count": 5,
   "id": "c4a98422-53f4-4d28-97eb-0f3d79edc223",
   "metadata": {},
   "outputs": [],
   "source": [
    "base_dir = '/glade/derecho/scratch/ksha/CREDIT_data/ERA5_mlevel_1deg/'"
   ]
  },
  {
   "cell_type": "code",
   "execution_count": 6,
   "id": "85e56f44-d922-4281-9b19-8c39206c3962",
   "metadata": {},
   "outputs": [],
   "source": [
    "# get variable names\n",
    "varnames = list(conf['residual'].keys())\n",
    "varnames = varnames[:-5] # remove save_loc and others\n",
    "\n",
    "varname_upper = ['specific_humidity', \n",
    "                 'specific_total_water', \n",
    "                 'temperature', \n",
    "                 'u_component_of_wind',\n",
    "                 'v_component_of_wind']\n",
    "\n",
    "varname_surf = list(set(varnames) - set(varname_upper))"
   ]
  },
  {
   "cell_type": "code",
   "execution_count": 7,
   "id": "04f18eeb-87da-48c8-85ab-49248d70374d",
   "metadata": {},
   "outputs": [],
   "source": [
    "ds_std = xr.open_dataset(base_dir+'mean_std/std_6h_1979_2019_conserve_1deg.nc')\n",
    "ds_residual = xr.open_dataset(base_dir+'mean_std/residual_6h_1979_2019_conserve_1deg.nc')\n",
    "ds_residual_norm = ds_std * ds_residual\n",
    "ds_residual_norm['land_sea_CI_mask'] = 1"
   ]
  },
  {
   "cell_type": "code",
   "execution_count": 9,
   "id": "52b440f6-1f28-4508-bf71-98de19bf116e",
   "metadata": {},
   "outputs": [],
   "source": [
    "ds_residual_norm.to_netcdf(base_dir+'mean_std/std_residual_6h_1979_2019_conserve_1deg.nc')"
   ]
  },
  {
   "cell_type": "code",
   "execution_count": 10,
   "id": "b5ca5c61-6ea6-4a43-a48f-8f810575b9af",
   "metadata": {},
   "outputs": [
    {
     "name": "stdout",
     "output_type": "stream",
     "text": [
      "=============== MSL =================\n",
      "=============== SKT =================\n",
      "=============== SP =================\n",
      "918.0367504316449\n",
      "=============== TCC =================\n",
      "=============== VAR_10U =================\n",
      "7.893927004789685\n",
      "=============== VAR_10V =================\n",
      "8.802414587093569\n",
      "=============== VAR_2T =================\n",
      "9.421656433213148\n",
      "12.423117636668174\n",
      "=============== evaporation =================\n",
      "0.0013398866648082226\n",
      "0.0017667349446151212\n",
      "=============== surface_latent_heat_flux =================\n",
      "3354122.8723220625\n",
      "4422647.260178827\n",
      "=============== surface_net_solar_radiation =================\n",
      "19968271.693305846\n",
      "26329572.724855658\n",
      "=============== surface_net_thermal_radiation =================\n",
      "1572165.0781891167\n",
      "2073010.3935602887\n",
      "=============== surface_sensible_heat_flux =================\n",
      "3533305.124103098\n",
      "4658911.680141309\n",
      "=============== toa_incident_solar_radiation =================\n",
      "36884336.95656432\n",
      "48634596.28464034\n",
      "=============== top_net_solar_radiation =================\n",
      "27794847.22822722\n",
      "36649463.845045656\n",
      "=============== top_net_thermal_radiation =================\n",
      "1498922.877557737\n",
      "1976435.3930959844\n",
      "=============== total_precipitation =================\n",
      "0.005935670376207724\n",
      "0.007826599479489509\n",
      "=============== land_sea_CI_mask =================\n",
      "1\n",
      "1\n",
      "=============== specific_total_water =================\n",
      "[2.51385242e-07 6.32084657e-07 1.40887630e-07 1.61300058e-07\n",
      " 1.66652193e-07 1.75492016e-07 4.77146719e-07 6.35670041e-06\n",
      " 1.08544244e-04 6.16628933e-04 1.67076627e-03 2.77707619e-03\n",
      " 3.79418671e-03 3.64288850e-03 2.79344084e-03 2.47239159e-03\n",
      " 2.44825984e-03 2.45559941e-03]\n",
      "[3.17569088e-07 1.86302186e-07 1.78274344e-07 1.86167366e-07\n",
      " 2.02547596e-07 2.07888794e-07 2.18403697e-07 2.14177339e-07\n",
      " 2.21725918e-07 2.99332810e-07 7.51653076e-07 2.18315754e-06\n",
      " 6.61835313e-06 1.82462819e-05 4.29931489e-05 8.70501187e-05\n",
      " 1.49744890e-04 3.28209602e-04 6.02409165e-04 9.74651028e-04\n",
      " 1.43308801e-03 1.93798966e-03 2.48953421e-03 2.93790164e-03\n",
      " 3.46074965e-03 3.99555536e-03 4.55283764e-03 4.77065939e-03\n",
      " 4.93693216e-03 5.03953905e-03 5.00816678e-03 4.79273665e-03\n",
      " 4.44830549e-03 4.02939618e-03 3.58908867e-03 3.37615826e-03\n",
      " 3.28720278e-03]\n",
      "=============== specific_humidity =================\n",
      "=============== temperature =================\n",
      "[ 9.64547042 10.4170116  13.74157545  7.29074268  5.23354221  4.55571994\n",
      "  4.08297633  4.25882716  5.578685    4.66829409  5.05544903  4.73881669\n",
      "  4.94102374  5.22024262  5.29875655  5.58201842  6.22105477  7.42508001]\n",
      "=============== u_component_of_wind =================\n",
      "[31.40996872 34.31922845 24.47703182 14.67665579 11.05716669  9.89383759\n",
      "  9.98641333 11.96483894 19.02193133 18.9901116  14.00122261 11.40232869\n",
      " 10.87160227 11.15330061 11.8099792  11.75287268 10.73583235  8.75802776]\n",
      "=============== v_component_of_wind =================\n",
      "[33.96300451 36.99511279 26.73118265 16.27147113 12.34482804 10.90955367\n",
      " 11.02977297 13.5764077  22.98733149 22.99999279 16.75330578 13.24536485\n",
      " 12.29024689 12.66790584 13.51748569 13.3358211  12.0410338   9.76571315]\n"
     ]
    }
   ],
   "source": [
    "# ------------------------------------------------------- #\n",
    "# Compare with my old ones\n",
    "base_dir_plevel = '/glade/derecho/scratch/ksha/CREDIT_data/ERA5_plevel_1deg/'\n",
    "old_std = xr.open_dataset(base_dir_plevel+'mean_std/std_residual_6h_1979_2019_conserve_1deg.nc')\n",
    "new_std = xr.open_dataset(base_dir+'mean_std/std_residual_6h_1979_2019_conserve_1deg.nc')\n",
    "\n",
    "for varname in varnames:\n",
    "    try:\n",
    "        print('=============== {} ================='.format(varname))\n",
    "        print(np.array(new_std[varname]))\n",
    "        print(np.array(old_std[varname]))\n",
    "    except:\n",
    "        pass"
   ]
  },
  {
   "cell_type": "code",
   "execution_count": null,
   "id": "6013bdf6-066a-494a-9ecd-f8598f5aecc2",
   "metadata": {},
   "outputs": [],
   "source": []
  }
 ],
 "metadata": {
  "kernelspec": {
   "display_name": "Python 3 (ipykernel)",
   "language": "python",
   "name": "python3"
  },
  "language_info": {
   "codemirror_mode": {
    "name": "ipython",
    "version": 3
   },
   "file_extension": ".py",
   "mimetype": "text/x-python",
   "name": "python",
   "nbconvert_exporter": "python",
   "pygments_lexer": "ipython3",
   "version": "3.11.9"
  }
 },
 "nbformat": 4,
 "nbformat_minor": 5
}
