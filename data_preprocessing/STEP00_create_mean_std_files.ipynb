{
 "cells": [
  {
   "cell_type": "markdown",
   "id": "d779c3f3-dd5e-4194-8925-95e37d9660ec",
   "metadata": {},
   "source": [
    "# Create z-score files for CREDIT"
   ]
  },
  {
   "cell_type": "code",
   "execution_count": 5,
   "id": "3e399085-3c08-46c9-8e07-fa7e3e0b63c7",
   "metadata": {},
   "outputs": [],
   "source": [
    "import os\n",
    "import yaml\n",
    "import numpy as np\n",
    "import xarray as xr"
   ]
  },
  {
   "cell_type": "markdown",
   "id": "2018bd3e-64bd-4953-a58a-06a0cb311c34",
   "metadata": {},
   "source": [
    "## File creation"
   ]
  },
  {
   "cell_type": "markdown",
   "id": "e21cdcff-6ae7-4a36-a68e-9b304dea5a52",
   "metadata": {},
   "source": [
    "### 6 hourly mean std files"
   ]
  },
  {
   "cell_type": "code",
   "execution_count": 6,
   "id": "94a10bbc-3f2f-4fb6-ab17-aa44c75a69d2",
   "metadata": {},
   "outputs": [],
   "source": [
    "# get variable information from data_preprocessing/config\n",
    "config_name = os.path.realpath('data_config_mlevel_6h.yml')\n",
    "\n",
    "with open(config_name, 'r') as stream:\n",
    "    conf = yaml.safe_load(stream)"
   ]
  },
  {
   "cell_type": "code",
   "execution_count": 7,
   "id": "0684ddd2-2532-4da3-968c-f9d9ca01ff5a",
   "metadata": {},
   "outputs": [],
   "source": [
    "N_levels = 18 #46\n",
    "base_dir = '/glade/derecho/scratch/ksha/CREDIT_data/ERA5_mlevel_1deg/'"
   ]
  },
  {
   "cell_type": "code",
   "execution_count": 8,
   "id": "4bd94aa0-ce0d-46aa-827f-b748f7bec225",
   "metadata": {},
   "outputs": [],
   "source": [
    "# get variable names\n",
    "varnames = list(conf['zscore'].keys())\n",
    "varnames = varnames[:-3] # remove save_loc and others\n",
    "\n",
    "varname_upper = ['specific_humidity', \n",
    "                 'specific_total_water', \n",
    "                 'temperature', \n",
    "                 'u_component_of_wind',\n",
    "                 'v_component_of_wind']\n",
    "\n",
    "varname_surf = list(set(varnames) - set(varname_upper))\n",
    "\n",
    "\n",
    "# collect computed mean and variance values\n",
    "# See \"qsub_STEP01_compute_mean_std.ipynb\"\n",
    "MEAN_values = {}\n",
    "STD_values = {}\n",
    "\n",
    "for varname in varname_surf:\n",
    "    save_name = conf['zscore']['save_loc'] + '{}_mean_std_{}.npy'.format(conf['zscore']['prefix'], varname)\n",
    "    mean_std = np.load(save_name)\n",
    "    MEAN_values[varname] = mean_std[0]\n",
    "    STD_values[varname] = mean_std[1]\n",
    "\n",
    "for varname in varname_upper:\n",
    "\n",
    "    # -------------------------------------------- #\n",
    "    # allocate all levels\n",
    "    mean_std_all_levels = np.empty((2, N_levels))\n",
    "    mean_std_all_levels[...] = np.nan\n",
    "    \n",
    "    for i_level in range(N_levels):\n",
    "        save_name = conf['zscore']['save_loc'] + '{}_level{}_mean_std_{}.npy'.format(conf['zscore']['prefix'], i_level, varname)\n",
    "        mean_std = np.load(save_name)\n",
    "        mean_std_all_levels[:, i_level] = mean_std\n",
    "\n",
    "    # -------------------------------------------- #\n",
    "    # save\n",
    "    MEAN_values[varname] = np.copy(mean_std_all_levels[0, :])\n",
    "    STD_values[varname] = np.copy(mean_std_all_levels[1, :])"
   ]
  },
  {
   "cell_type": "code",
   "execution_count": 9,
   "id": "3fd9cdd3-eb48-4bdc-b917-dad54924b1d7",
   "metadata": {},
   "outputs": [],
   "source": [
    "ds_example = xr.open_zarr(base_dir+'all_in_one/ERA5_mlevel_1deg_6h_subset_1979_conserve.zarr')"
   ]
  },
  {
   "cell_type": "code",
   "execution_count": 10,
   "id": "e7976bd4-5d6f-4608-aea0-8d8ecffe479d",
   "metadata": {},
   "outputs": [],
   "source": [
    "# ------------------------------------------------------- #\n",
    "# create xr.DataArray for mean\n",
    "\n",
    "# Initialize level coord\n",
    "level = np.array(ds_example['level'])\n",
    "\n",
    "# Initialize dataset\n",
    "ds_mean_6h = xr.Dataset(coords={\"level\": level})\n",
    "\n",
    "for varname, data in MEAN_values.items():\n",
    "    if len(data.shape) == 1:\n",
    "        data_array = xr.DataArray(\n",
    "            data,\n",
    "            dims=[\"level\",],\n",
    "            coords={\"level\": level},\n",
    "            name=varname,\n",
    "        )\n",
    "        ds_mean_6h[varname] = data_array\n",
    "    else:\n",
    "        data_array = xr.DataArray(\n",
    "            data,\n",
    "            name=varname,\n",
    "        )\n",
    "        ds_mean_6h[varname] = data_array"
   ]
  },
  {
   "cell_type": "code",
   "execution_count": 11,
   "id": "702c76a0-e6e4-4bce-ac72-e20160877be6",
   "metadata": {},
   "outputs": [],
   "source": [
    "# ------------------------------------------------------- #\n",
    "# create xr.DataArray for std\n",
    "\n",
    "# use the same level coord as mean\n",
    "ds_std_6h = xr.Dataset(coords={\"level\": level})\n",
    "\n",
    "for varname, data in STD_values.items():\n",
    "    data = np.sqrt(data)\n",
    "    if len(data.shape) == 1:\n",
    "        data_array = xr.DataArray(\n",
    "            data,\n",
    "            dims=[\"level\",],\n",
    "            coords={\"level\": level},\n",
    "            name=varname,\n",
    "        )\n",
    "        ds_std_6h[varname] = data_array\n",
    "    else:\n",
    "        data_array = xr.DataArray(\n",
    "            data,\n",
    "            name=varname,\n",
    "        )\n",
    "        ds_std_6h[varname] = data_array"
   ]
  },
  {
   "cell_type": "code",
   "execution_count": 12,
   "id": "ddaac9f5-5b03-4e24-9d03-027afb9f8ef4",
   "metadata": {},
   "outputs": [],
   "source": [
    "ds_mean_6h['land_sea_CI_mask'] = 0.0\n",
    "# ds_std_6h['land_sea_CI_mask'] = 1.0"
   ]
  },
  {
   "cell_type": "code",
   "execution_count": 13,
   "id": "a1e7cd24-8d5c-4440-9008-c4abc1fcc9ac",
   "metadata": {},
   "outputs": [],
   "source": [
    "# ------------------------------------------------------- #\n",
    "# Same to netCDF\n",
    "ds_mean_6h.to_netcdf(base_dir+'mean_std/mean_6h_1979_2019_conserve_1deg.nc')\n",
    "ds_std_6h.to_netcdf(base_dir+'mean_std/std_6h_1979_2019_conserve_1deg.nc')"
   ]
  },
  {
   "cell_type": "code",
   "execution_count": null,
   "id": "a8de4906-cc7a-4435-8c10-518538f2d68e",
   "metadata": {},
   "outputs": [],
   "source": []
  },
  {
   "cell_type": "code",
   "execution_count": 14,
   "id": "4364c620-8b4d-4edf-97b8-82b948711b18",
   "metadata": {},
   "outputs": [
    {
     "name": "stdout",
     "output_type": "stream",
     "text": [
      "=============== MSL =================\n",
      "1330.8846696194373\n",
      "1330.8846696194373\n",
      "=============== SKT =================\n",
      "22.40483815378879\n",
      "22.404838153788788\n",
      "=============== SP =================\n",
      "9597.442621657625\n",
      "9597.442621657625\n",
      "=============== TCC =================\n",
      "0.3491840944157281\n",
      "0.34918409441572806\n",
      "=============== VAR_10U =================\n",
      "5.487526636552918\n",
      "5.487526636552918\n",
      "=============== VAR_10V =================\n",
      "4.71086288032973\n",
      "4.71086288032973\n",
      "=============== VAR_2T =================\n",
      "21.373759417572977\n",
      "21.373759417572977\n",
      "=============== evaporation =================\n",
      "0.0006418363022945283\n",
      "0.0006418363022945283\n",
      "=============== surface_latent_heat_flux =================\n",
      "1604157.7576941664\n",
      "1604157.7576941664\n",
      "=============== surface_net_solar_radiation =================\n",
      "4214109.662542443\n",
      "4214109.662542443\n",
      "=============== surface_net_thermal_radiation =================\n",
      "666310.6177924678\n",
      "666310.6177924678\n",
      "=============== surface_sensible_heat_flux =================\n",
      "917596.9043234516\n",
      "917596.9043234516\n",
      "=============== toa_incident_solar_radiation =================\n",
      "7716263.343614088\n",
      "7716263.343614088\n",
      "=============== top_net_solar_radiation =================\n",
      "5830393.034174383\n",
      "5830393.034174383\n",
      "=============== top_net_thermal_radiation =================\n",
      "1048153.7804762697\n",
      "1048153.7804762697\n",
      "=============== total_precipitation =================\n",
      "0.0017714241278640804\n",
      "0.0017714241278640804\n",
      "=============== land_sea_CI_mask =================\n",
      "0.601523829454437\n",
      "0.6015238294544372\n",
      "=============== specific_total_water =================\n",
      "[5.24473482e-07 3.61295863e-07 2.47725758e-07 3.44971787e-07\n",
      " 2.97706450e-07 3.67206094e-07 5.38408906e-07 4.64842550e-06\n",
      " 6.94580040e-05 4.16347676e-04 1.22804425e-03 2.20238795e-03\n",
      " 3.47067279e-03 4.28970221e-03 5.22079719e-03 5.66026808e-03\n",
      " 5.82966602e-03 5.94418469e-03]\n",
      "[1.47448629e-07 2.18486793e-07 2.69306473e-07 3.18866754e-07\n",
      " 3.39629482e-07 3.44408546e-07 3.02537166e-07 3.06876374e-07\n",
      " 3.60947701e-07 4.06882702e-07 5.69227151e-07 1.18649061e-06\n",
      " 3.76527269e-06 1.00445285e-05 2.24325240e-05 4.32211514e-05\n",
      " 7.34969316e-05 1.66583928e-04 3.09963038e-04 5.04110787e-04\n",
      " 7.55147609e-04 1.07678579e-03 1.45225272e-03 1.76289549e-03\n",
      " 2.10268842e-03 2.53783898e-03 3.03693019e-03 3.29652426e-03\n",
      " 3.55740245e-03 3.82081719e-03 4.09475044e-03 4.38450117e-03\n",
      " 4.69691436e-03 5.06222856e-03 5.49517121e-03 5.78891414e-03\n",
      " 5.90574987e-03]\n",
      "=============== specific_humidity =================\n",
      "[5.24473482e-07 3.61295863e-07 2.47725758e-07 3.44971787e-07\n",
      " 2.97706450e-07 3.67206094e-07 5.38408906e-07 4.64842550e-06\n",
      " 6.94532505e-05 4.15404080e-04 1.21783784e-03 2.19442410e-03\n",
      " 3.46156949e-03 4.28148833e-03 5.21702631e-03 5.65986818e-03\n",
      " 5.82863567e-03 5.94276879e-03]\n",
      "=============== temperature =================\n",
      "[12.57761191  8.49365639 15.22927865 12.78751702 10.97737529 10.42774117\n",
      " 12.73297458  8.63103596  8.58368506 13.35914923 14.58914298 15.22852636\n",
      " 15.97036539 16.45788852 17.41653523 18.29164629 19.54964321 20.80603147]\n",
      "=============== u_component_of_wind =================\n",
      "[24.54406579 40.43292847 32.97553121 25.71905459 20.28024373 14.90291954\n",
      " 13.2992537  16.2449666  17.92216459 14.91293342 11.62698169  9.56645471\n",
      "  8.47385116  8.24548365  8.21232902  7.970565    7.27916064  6.04310482]\n",
      "=============== v_component_of_wind =================\n",
      "[11.00158361 13.72021124 13.21003827 10.96735328  8.55534111  6.98577534\n",
      "  7.25134136  9.77293219 13.25156094 11.72742445  8.93237875  7.25493546\n",
      "  6.47450375  6.45912613  6.82587185  6.87035439  6.38232276  5.2157105 ]\n"
     ]
    }
   ],
   "source": [
    "# ------------------------------------------------------- #\n",
    "# Compare with my old ones\n",
    "base_dir_plevel = '/glade/derecho/scratch/ksha/CREDIT_data/ERA5_plevel_1deg/'\n",
    "STD_mlevel = xr.open_dataset(base_dir+'mean_std/std_6h_1979_2019_conserve_1deg.nc')\n",
    "STD_plevel = xr.open_dataset(base_dir_plevel+'mean_std/std_6h_1979_2019_conserve_1deg.nc')\n",
    "\n",
    "for varname in varnames:\n",
    "    try:\n",
    "        print('=============== {} ================='.format(varname))\n",
    "        print(np.array(STD_mlevel[varname]))\n",
    "        print(np.array(STD_plevel[varname]))\n",
    "    except:\n",
    "        pass"
   ]
  },
  {
   "cell_type": "code",
   "execution_count": null,
   "id": "7e10ecef-f0d4-42f6-b081-aaf443f81a6c",
   "metadata": {},
   "outputs": [],
   "source": []
  }
 ],
 "metadata": {
  "kernelspec": {
   "display_name": "Python 3 (ipykernel)",
   "language": "python",
   "name": "python3"
  },
  "language_info": {
   "codemirror_mode": {
    "name": "ipython",
    "version": 3
   },
   "file_extension": ".py",
   "mimetype": "text/x-python",
   "name": "python",
   "nbconvert_exporter": "python",
   "pygments_lexer": "ipython3",
   "version": "3.11.9"
  }
 },
 "nbformat": 4,
 "nbformat_minor": 5
}
