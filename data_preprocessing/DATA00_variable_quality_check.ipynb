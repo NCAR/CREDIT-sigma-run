{
 "cells": [
  {
   "cell_type": "code",
   "execution_count": null,
   "id": "5576e220-d6c3-4381-b2a4-739ce493d25d",
   "metadata": {},
   "outputs": [],
   "source": []
  },
  {
   "cell_type": "code",
   "execution_count": 1,
   "id": "b9f55448-1020-435a-bcbd-8847119a5013",
   "metadata": {},
   "outputs": [],
   "source": [
    "import os\n",
    "import sys\n",
    "import yaml\n",
    "import dask\n",
    "import zarr\n",
    "import numpy as np\n",
    "import xarray as xr\n",
    "import pandas as pd\n",
    "from glob import glob\n",
    "\n",
    "import calendar\n",
    "from datetime import datetime, timedelta\n",
    "from dateutil.relativedelta import relativedelta\n",
    "\n",
    "sys.path.insert(0, os.path.realpath('../libs/'))\n",
    "import verif_utils as vu"
   ]
  },
  {
   "cell_type": "code",
   "execution_count": 2,
   "id": "336bf624-3d5c-4a58-af0c-538de83f5396",
   "metadata": {},
   "outputs": [],
   "source": [
    "import matplotlib.pyplot as plt\n",
    "%matplotlib inline"
   ]
  },
  {
   "cell_type": "code",
   "execution_count": 4,
   "id": "d455f509-a4e1-4fab-b26d-c82f4725747a",
   "metadata": {},
   "outputs": [],
   "source": [
    "base_dir = '/glade/derecho/scratch/ksha/CREDIT_data/ERA5_mlevel_1deg/'\n",
    "fn = base_dir + 'all_in_one/ERA5_mlevel_1deg_6h_subset_1979_conserve.zarr'"
   ]
  },
  {
   "cell_type": "code",
   "execution_count": 5,
   "id": "79943b73-1261-4b62-b4fb-7249059c9341",
   "metadata": {},
   "outputs": [],
   "source": [
    "ds = xr.open_zarr(fn)"
   ]
  },
  {
   "cell_type": "code",
   "execution_count": 6,
   "id": "b3d27f80-6b79-4183-929a-4acc147dcac1",
   "metadata": {},
   "outputs": [],
   "source": [
    "# Q1 = ds['specific_total_water'].isel(level=26, time=slice(0, 1460, 10)).values\n",
    "# Q2 = ds['specific_humidity'].isel(level=26, time=slice(0, 1460, 10)).values"
   ]
  },
  {
   "cell_type": "code",
   "execution_count": 7,
   "id": "cd52dcb6-6363-4a1c-9f14-a83081f7c9be",
   "metadata": {},
   "outputs": [],
   "source": [
    "# for i in range(146):\n",
    "#     fig, (ax1, ax2) = plt.subplots(1, 2, figsize=(10, 4))  # 1 row, 2 columns\n",
    "#     ax1.pcolormesh(Q1[i, ...], cmap=plt.cm.jet)\n",
    "#     ax2.pcolormesh(Q2[i, ...], cmap=plt.cm.jet)"
   ]
  },
  {
   "cell_type": "code",
   "execution_count": null,
   "id": "c3fb40c1-f523-4bd9-aca9-7c7ef6ad5837",
   "metadata": {},
   "outputs": [],
   "source": []
  }
 ],
 "metadata": {
  "kernelspec": {
   "display_name": "Python 3 (ipykernel)",
   "language": "python",
   "name": "python3"
  },
  "language_info": {
   "codemirror_mode": {
    "name": "ipython",
    "version": 3
   },
   "file_extension": ".py",
   "mimetype": "text/x-python",
   "name": "python",
   "nbconvert_exporter": "python",
   "pygments_lexer": "ipython3",
   "version": "3.11.9"
  }
 },
 "nbformat": 4,
 "nbformat_minor": 5
}
