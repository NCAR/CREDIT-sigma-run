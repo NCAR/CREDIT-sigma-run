{
 "cells": [
  {
   "cell_type": "markdown",
   "id": "e74d4b61-121f-4657-805b-3c0621b4e7f7",
   "metadata": {},
   "source": [
    "# Variable weights derivation"
   ]
  },
  {
   "cell_type": "code",
   "execution_count": 1,
   "id": "67a13d0d-e021-4ee6-b978-894a4094f3dd",
   "metadata": {},
   "outputs": [],
   "source": [
    "import copy\n",
    "import numpy as np\n",
    "import pandas as pd\n",
    "import xarray as xr"
   ]
  },
  {
   "cell_type": "markdown",
   "id": "861ac725-f741-4d85-81fd-0b6a16a5bfa7",
   "metadata": {},
   "source": [
    "## Tropopause weights"
   ]
  },
  {
   "cell_type": "code",
   "execution_count": 2,
   "id": "e9d95378-55d9-451d-8e4e-6b4354ab641d",
   "metadata": {},
   "outputs": [],
   "source": [
    "N_levels = 18\n",
    "base_dir = '/glade/derecho/scratch/ksha/CREDIT_data/ERA5_mlevel_1deg/'\n",
    "ds_example = xr.open_zarr(base_dir+'all_in_one/ERA5_mlevel_1deg_6h_subset_1979_conserve.zarr')\n",
    "mlevel_sub = ds_example['level'].values"
   ]
  },
  {
   "cell_type": "code",
   "execution_count": 3,
   "id": "9c89ce17-98a2-4886-9b45-2f35a4229a9c",
   "metadata": {},
   "outputs": [],
   "source": [
    "ds_static = xr.open_zarr(base_dir+'static/ERA5_mlevel_1deg_static_subset.zarr')\n",
    "coef_a = ds_static['coef_a'].values\n",
    "coef_b = ds_static['coef_b'].values"
   ]
  },
  {
   "cell_type": "code",
   "execution_count": 4,
   "id": "b53d7af9-ce32-4457-aedb-4337d903d102",
   "metadata": {},
   "outputs": [],
   "source": [
    "plevel_sub_bounds = (coef_a + coef_b*101300)/100"
   ]
  },
  {
   "cell_type": "code",
   "execution_count": 5,
   "id": "db0f122c-bd51-4e92-b718-f20f0aac461a",
   "metadata": {},
   "outputs": [],
   "source": [
    "plevel_sub = 0.5*(plevel_sub_bounds[1:] + plevel_sub_bounds[:-1])"
   ]
  },
  {
   "cell_type": "code",
   "execution_count": 6,
   "id": "0816854a-ea19-42df-a6b5-ff7161f0426f",
   "metadata": {},
   "outputs": [
    {
     "data": {
      "text/plain": [
       "322.2688289985806"
      ]
     },
     "execution_count": 6,
     "metadata": {},
     "output_type": "execute_result"
    }
   ],
   "source": [
    "plevel_sub[9]"
   ]
  },
  {
   "cell_type": "code",
   "execution_count": 7,
   "id": "e2ce4d51-e693-42bb-8d84-e568ca0cd017",
   "metadata": {},
   "outputs": [
    {
     "name": "stdout",
     "output_type": "stream",
     "text": [
      "[1.36577589e-06 2.38872094e-05 2.06553177e-04 8.92194675e-04\n",
      " 2.53615808e-03 5.55109728e-03 1.02659148e-02 1.74081408e-02\n",
      " 2.82033917e-02 8.25636383e-02 1.36923885e-01 1.36923885e-01\n",
      " 1.36923885e-01 1.36923885e-01 1.36923885e-01 1.36923885e-01\n",
      " 1.36923885e-01 1.36923885e-01]\n"
     ]
    }
   ],
   "source": [
    "W_18 = plevel_sub/plevel_sub.sum()\n",
    "W_18[10:] = W_18[-1]\n",
    "W_18[9] = 0.5*(W_18[8]+W_18[10])\n",
    "print(W_18)"
   ]
  },
  {
   "cell_type": "code",
   "execution_count": 9,
   "id": "1c8773e1-aea6-4bca-803a-cef10076289f",
   "metadata": {},
   "outputs": [],
   "source": [
    "W_18_q = W_18.copy()\n",
    "W_18_q[1:] = 0.5*W_18_q[1:]"
   ]
  },
  {
   "cell_type": "code",
   "execution_count": 1,
   "id": "66681ad4-a132-4c5a-8892-88a2b2da9fe3",
   "metadata": {},
   "outputs": [],
   "source": [
    "#3*W_18.sum() + W_18_q.sum() + 0.058*4 + 0.029*9"
   ]
  },
  {
   "cell_type": "code",
   "execution_count": 12,
   "id": "1ac18ea4-a90a-4bc2-a36f-393b7fee9e03",
   "metadata": {},
   "outputs": [],
   "source": [
    "base_dir = '/glade/derecho/scratch/ksha/CREDIT_data/ERA5_mlevel_1deg/'\n",
    "ds_residual = xr.open_dataset(base_dir+'mean_std/residual_original_6h_1979_2019_conserve_1deg.nc')\n",
    "\n",
    "varnames = list(ds_residual.keys())\n",
    "varnames_upper_air = ['specific_total_water', 'temperature', 'u_component_of_wind','v_component_of_wind']\n",
    "varnames_surf = ['SP', 'VAR_2T', 'VAR_10U', 'VAR_10V']\n",
    "varnames_diag = list(set(varnames) - set(varnames_upper_air) - set(varnames_surf))"
   ]
  },
  {
   "cell_type": "code",
   "execution_count": 16,
   "id": "4d79b13d-1cf8-498e-807b-0be8e5693961",
   "metadata": {},
   "outputs": [
    {
     "name": "stdout",
     "output_type": "stream",
     "text": [
      "specific_total_water: [1.36577589e-06 1.19436047e-05 1.03276589e-04 4.46097338e-04\n",
      " 1.26807904e-03 2.77554864e-03 5.13295742e-03 8.70407041e-03\n",
      " 1.41016958e-02 4.12818192e-02 6.84619425e-02 6.84619425e-02\n",
      " 6.84619425e-02 6.84619425e-02 6.84619425e-02 6.84619425e-02\n",
      " 6.84619425e-02 6.84619425e-02]\n",
      "temperature: [1.36577589e-06 2.38872094e-05 2.06553177e-04 8.92194675e-04\n",
      " 2.53615808e-03 5.55109728e-03 1.02659148e-02 1.74081408e-02\n",
      " 2.82033917e-02 8.25636383e-02 1.36923885e-01 1.36923885e-01\n",
      " 1.36923885e-01 1.36923885e-01 1.36923885e-01 1.36923885e-01\n",
      " 1.36923885e-01 1.36923885e-01]\n",
      "u_component_of_wind: [1.36577589e-06 2.38872094e-05 2.06553177e-04 8.92194675e-04\n",
      " 2.53615808e-03 5.55109728e-03 1.02659148e-02 1.74081408e-02\n",
      " 2.82033917e-02 8.25636383e-02 1.36923885e-01 1.36923885e-01\n",
      " 1.36923885e-01 1.36923885e-01 1.36923885e-01 1.36923885e-01\n",
      " 1.36923885e-01 1.36923885e-01]\n",
      "v_component_of_wind: [1.36577589e-06 2.38872094e-05 2.06553177e-04 8.92194675e-04\n",
      " 2.53615808e-03 5.55109728e-03 1.02659148e-02 1.74081408e-02\n",
      " 2.82033917e-02 8.25636383e-02 1.36923885e-01 1.36923885e-01\n",
      " 1.36923885e-01 1.36923885e-01 1.36923885e-01 1.36923885e-01\n",
      " 1.36923885e-01 1.36923885e-01]\n",
      "SP: 0.13\n",
      "VAR_2T: 0.13\n",
      "VAR_10U: 0.13\n",
      "VAR_10V: 0.13\n",
      "surface_latent_heat_flux: 0.065\n",
      "surface_net_solar_radiation: 0.065\n",
      "evaporation: 0.065\n",
      "surface_net_thermal_radiation: 0.065\n",
      "toa_incident_solar_radiation: 0.065\n",
      "surface_sensible_heat_flux: 0.065\n",
      "total_precipitation: 0.065\n",
      "top_net_thermal_radiation: 0.065\n",
      "top_net_solar_radiation: 0.065\n"
     ]
    }
   ],
   "source": [
    "for var in varnames_upper_air:\n",
    "    if var == 'specific_total_water':\n",
    "        W_18_q = W_18.copy()\n",
    "        W_18_q[1:] = 0.5*W_18_q[1:]\n",
    "        print('{}: {}'.format(var, W_18_q))\n",
    "    else:\n",
    "        print('{}: {}'.format(var, W_18))\n",
    "\n",
    "for var in varnames_surf:\n",
    "    print('{}: {}'.format(var, 0.13))\n",
    "\n",
    "for var in varnames_diag:\n",
    "    print('{}: {}'.format(var, 0.065))"
   ]
  },
  {
   "cell_type": "markdown",
   "id": "95350731-9e6a-4237-903c-5de3b857f771",
   "metadata": {},
   "source": [
    "```python\n",
    "    variable_weights:\n",
    "        specific_total_water: [1.36577589e-06, 1.19436047e-05, 1.03276589e-04, 4.46097338e-04, 1.26807904e-03, 2.77554864e-03, 5.13295742e-03, 8.70407041e-03, 1.41016958e-02, 4.12818192e-02, 6.84619425e-02, 6.84619425e-02, 6.84619425e-02, 6.84619425e-02, 6.84619425e-02, 6.84619425e-02, 6.84619425e-02, 6.84619425e-02]\n",
    "        temperature: [1.36577589e-06, 2.38872094e-05, 2.06553177e-04, 8.92194675e-04, 2.53615808e-03, 5.55109728e-03, 1.02659148e-02, 1.74081408e-02, 2.82033917e-02, 8.25636383e-02, 1.36923885e-01, 1.36923885e-01, 1.36923885e-01, 1.36923885e-01, 1.36923885e-01, 1.36923885e-01, 1.36923885e-01, 1.36923885e-01]\n",
    "        u_component_of_wind: [1.36577589e-06, 2.38872094e-05, 2.06553177e-04, 8.92194675e-04, 2.53615808e-03, 5.55109728e-03, 1.02659148e-02, 1.74081408e-02, 2.82033917e-02, 8.25636383e-02, 1.36923885e-01, 1.36923885e-01, 1.36923885e-01, 1.36923885e-01, 1.36923885e-01, 1.36923885e-01, 1.36923885e-01, 1.36923885e-01]\n",
    "        v_component_of_wind: [1.36577589e-06, 2.38872094e-05, 2.06553177e-04, 8.92194675e-04, 2.53615808e-03, 5.55109728e-03, 1.02659148e-02, 1.74081408e-02, 2.82033917e-02, 8.25636383e-02, 1.36923885e-01, 1.36923885e-01, 1.36923885e-01, 1.36923885e-01, 1.36923885e-01, 1.36923885e-01, 1.36923885e-01, 1.36923885e-01]\n",
    "        SP: 0.13\n",
    "        VAR_2T: 0.13\n",
    "        VAR_10U: 0.13\n",
    "        VAR_10V: 0.13\n",
    "        surface_latent_heat_flux: 0.065\n",
    "        surface_net_solar_radiation: 0.065\n",
    "        evaporation: 0.065\n",
    "        surface_net_thermal_radiation: 0.065\n",
    "        toa_incident_solar_radiation: 0.065\n",
    "        surface_sensible_heat_flux: 0.065\n",
    "        total_precipitation: 0.065\n",
    "        top_net_thermal_radiation: 0.065\n",
    "        top_net_solar_radiation: 0.065\n",
    "```"
   ]
  },
  {
   "cell_type": "code",
   "execution_count": null,
   "id": "868b04bb-1a64-49dc-ad53-9ed469f03ee1",
   "metadata": {},
   "outputs": [],
   "source": []
  }
 ],
 "metadata": {
  "kernelspec": {
   "display_name": "Python 3 (ipykernel)",
   "language": "python",
   "name": "python3"
  },
  "language_info": {
   "codemirror_mode": {
    "name": "ipython",
    "version": 3
   },
   "file_extension": ".py",
   "mimetype": "text/x-python",
   "name": "python",
   "nbconvert_exporter": "python",
   "pygments_lexer": "ipython3",
   "version": "3.11.9"
  }
 },
 "nbformat": 4,
 "nbformat_minor": 5
}
