{
 "cells": [
  {
   "cell_type": "markdown",
   "id": "d779c3f3-dd5e-4194-8925-95e37d9660ec",
   "metadata": {},
   "source": [
    "# Create resaidual norm files for CREDIT"
   ]
  },
  {
   "cell_type": "code",
   "execution_count": 1,
   "id": "3e399085-3c08-46c9-8e07-fa7e3e0b63c7",
   "metadata": {},
   "outputs": [],
   "source": [
    "import os\n",
    "import yaml\n",
    "import copy\n",
    "import numpy as np\n",
    "import xarray as xr"
   ]
  },
  {
   "cell_type": "code",
   "execution_count": 2,
   "id": "7ce73a4a-5b8b-4b22-958f-56a7eaa38881",
   "metadata": {},
   "outputs": [],
   "source": [
    "from scipy.stats import gmean"
   ]
  },
  {
   "cell_type": "code",
   "execution_count": 3,
   "id": "6c58f08d-db2c-4606-a52d-93ef9f13bdd9",
   "metadata": {},
   "outputs": [],
   "source": [
    "import matplotlib.pyplot as plt\n",
    "%matplotlib inline"
   ]
  },
  {
   "cell_type": "markdown",
   "id": "2018bd3e-64bd-4953-a58a-06a0cb311c34",
   "metadata": {},
   "source": [
    "## File creation"
   ]
  },
  {
   "cell_type": "code",
   "execution_count": 4,
   "id": "94584383-7a21-4e92-95c4-bfa075634cb4",
   "metadata": {},
   "outputs": [],
   "source": [
    "# get variable information from data_preprocessing/config\n",
    "config_name = os.path.realpath('data_config_mlevel_6h.yml')\n",
    "\n",
    "with open(config_name, 'r') as stream:\n",
    "    conf = yaml.safe_load(stream)"
   ]
  },
  {
   "cell_type": "code",
   "execution_count": 5,
   "id": "a4f6a53b-6efe-478e-a35d-2e1479e6d4e2",
   "metadata": {},
   "outputs": [],
   "source": [
    "N_levels = 18 #46\n",
    "base_dir = '/glade/derecho/scratch/ksha/CREDIT_data/ERA5_mlevel_1deg/'"
   ]
  },
  {
   "cell_type": "code",
   "execution_count": 6,
   "id": "4dafceb5-1621-4622-a78d-078dfdd94cef",
   "metadata": {},
   "outputs": [],
   "source": [
    "# get variable names\n",
    "varnames = list(conf['residual'].keys())\n",
    "varnames = varnames[:-5] # remove save_loc and others\n",
    "\n",
    "varname_upper = ['specific_humidity', \n",
    "                 'specific_total_water', \n",
    "                 'temperature', \n",
    "                 'u_component_of_wind',\n",
    "                 'v_component_of_wind']\n",
    "\n",
    "varname_surf = list(set(varnames) - set(varname_upper))\n",
    "\n",
    "# collect computed mean and variance values\n",
    "# See \"qsub_STEP01_compute_mean_std.ipynb\"\n",
    "MEAN_values = {}\n",
    "STD_values = {}\n",
    "\n",
    "for varname in varname_surf:\n",
    "    save_name = conf['residual']['save_loc'] + '{}_mean_std_{}.npy'.format(\n",
    "        conf['residual']['prefix'], varname)\n",
    "    mean_std = np.load(save_name)\n",
    "    MEAN_values[varname] = mean_std[0]\n",
    "    STD_values[varname] = mean_std[1]\n",
    "\n",
    "for varname in varname_upper:\n",
    "\n",
    "    # -------------------------------------------- #\n",
    "    # allocate all levels\n",
    "    mean_std_all_levels = np.empty((2, N_levels))\n",
    "    mean_std_all_levels[...] = np.nan\n",
    "    \n",
    "    for i_level in range(N_levels):\n",
    "        save_name = conf['residual']['save_loc'] + '{}_level{}_mean_std_{}.npy'.format(\n",
    "            conf['residual']['prefix'], i_level, varname)\n",
    "        mean_std = np.load(save_name)\n",
    "        mean_std_all_levels[:, i_level] = mean_std\n",
    "\n",
    "    # -------------------------------------------- #\n",
    "    # save\n",
    "    MEAN_values[varname] = np.copy(mean_std_all_levels[0, :])\n",
    "    STD_values[varname] = np.copy(mean_std_all_levels[1, :])\n",
    "\n",
    "keys_to_drop = ['TCC', 'MSL', 'SKT', 'specific_humidity', 'land_sea_CI_mask']\n",
    "MEAN_values = {k: v for k, v in MEAN_values.items() if k not in keys_to_drop}\n",
    "STD_values = {k: v for k, v in STD_values.items() if k not in keys_to_drop}"
   ]
  },
  {
   "cell_type": "code",
   "execution_count": 7,
   "id": "6b9660fc-e33e-45e4-a97c-8fb2ef4d31ce",
   "metadata": {},
   "outputs": [],
   "source": [
    "std_val_all = list(STD_values.values())\n",
    "std_val_surf = np.array(std_val_all[:-4])\n",
    "std_val_upper = std_val_all[-4:]"
   ]
  },
  {
   "cell_type": "code",
   "execution_count": 8,
   "id": "42445e40-5034-442a-a41f-b85aa895b631",
   "metadata": {},
   "outputs": [],
   "source": [
    "std_concat = np.concatenate([std_val_surf]+ std_val_upper)\n",
    "std_g = gmean(np.sqrt(std_concat))"
   ]
  },
  {
   "cell_type": "code",
   "execution_count": 9,
   "id": "1d242698-e451-44d2-9c2d-c94b74424373",
   "metadata": {},
   "outputs": [],
   "source": [
    "ds_example = xr.open_zarr(base_dir+'all_in_one/ERA5_mlevel_1deg_6h_subset_1979_conserve.zarr')"
   ]
  },
  {
   "cell_type": "code",
   "execution_count": 10,
   "id": "9bc71d2d-f5f6-4f56-99c4-30f67ffc04d4",
   "metadata": {},
   "outputs": [],
   "source": [
    "# ------------------------------------------------------- #\n",
    "# create xr.DataArray for std\n",
    "# Initialize level coord\n",
    "level = np.array(ds_example['level'])\n",
    "\n",
    "ds_std_6h = xr.Dataset(coords={\"level\": level})\n",
    "\n",
    "for varname, data in STD_values.items():\n",
    "    data = np.sqrt(data) #/ std_g # <--- var to std and divided by std_g\n",
    "    if len(data.shape) == 1:\n",
    "        data_array = xr.DataArray(\n",
    "            data,\n",
    "            dims=[\"level\",],\n",
    "            coords={\"level\": level},\n",
    "            name=varname,\n",
    "        )\n",
    "        ds_std_6h[varname] = data_array\n",
    "    else:\n",
    "        data_array = xr.DataArray(\n",
    "            data,\n",
    "            name=varname,\n",
    "        )\n",
    "        ds_std_6h[varname] = data_array"
   ]
  },
  {
   "cell_type": "code",
   "execution_count": 11,
   "id": "52b440f6-1f28-4508-bf71-98de19bf116e",
   "metadata": {},
   "outputs": [],
   "source": [
    "ds_std_6h.to_netcdf(base_dir+'mean_std/residual_original_6h_1979_2019_conserve_1deg.nc')"
   ]
  },
  {
   "cell_type": "code",
   "execution_count": 12,
   "id": "590838a2-23c0-478d-8c5b-e9a62c1d9456",
   "metadata": {},
   "outputs": [
    {
     "data": {
      "text/plain": [
       "'/glade/derecho/scratch/ksha/CREDIT_data/ERA5_mlevel_1deg/mean_std/residual_original_6h_1979_2019_conserve_1deg.nc'"
      ]
     },
     "execution_count": 12,
     "metadata": {},
     "output_type": "execute_result"
    }
   ],
   "source": [
    "base_dir+'mean_std/residual_original_6h_1979_2019_conserve_1deg.nc'"
   ]
  },
  {
   "cell_type": "code",
   "execution_count": 14,
   "id": "519a3a4e-f048-4fea-8784-9c5446b06832",
   "metadata": {},
   "outputs": [
    {
     "name": "stdout",
     "output_type": "stream",
     "text": [
      "=============== MSL =================\n",
      "=============== SKT =================\n",
      "=============== SP =================\n",
      "0.09565430986375473\n",
      "=============== TCC =================\n",
      "=============== VAR_10U =================\n",
      "1.4385218564967892\n",
      "=============== VAR_10V =================\n",
      "1.8685355126442267\n",
      "=============== VAR_2T =================\n",
      "0.44080483218440714\n",
      "0.5812322200302392\n",
      "=============== evaporation =================\n",
      "2.0875831734948678\n",
      "2.752625456520836\n",
      "=============== surface_latent_heat_flux =================\n",
      "2.0908934026185273\n",
      "2.756990226781677\n",
      "=============== surface_net_solar_radiation =================\n",
      "4.738431909068701\n",
      "6.2479562311557375\n",
      "=============== surface_net_thermal_radiation =================\n",
      "2.3595077674100495\n",
      "3.1111771870427525\n",
      "=============== surface_sensible_heat_flux =================\n",
      "3.8506070666271706\n",
      "5.077296641030351\n",
      "=============== toa_incident_solar_radiation =================\n",
      "4.78007752121232\n",
      "6.302868904142561\n",
      "=============== top_net_solar_radiation =================\n",
      "4.767233883772491\n",
      "6.285933663515951\n",
      "=============== top_net_thermal_radiation =================\n",
      "1.43006007847116\n",
      "1.8856349420386707\n",
      "=============== total_precipitation =================\n",
      "3.3507900693239074\n",
      "4.418252724674436\n",
      "=============== land_sea_CI_mask =================\n",
      "=============== specific_total_water =================\n",
      "[0.47930973 1.7494932  0.56872419 0.46757464 0.55978697 0.4779115\n",
      " 0.88621624 1.36749538 1.56273197 1.48104329 1.36050982 1.26093869\n",
      " 1.0932136  0.84921711 0.53506021 0.43679761 0.41996571 0.41310954]\n",
      "[2.15376088 0.85269313 0.66197571 0.58384063 0.59637813 0.60361102\n",
      " 0.721907   0.6979271  0.61428821 0.73567347 1.32048001 1.84001248\n",
      " 1.75773541 1.81653941 1.91655424 2.01406292 2.03743049 1.9702357\n",
      " 1.9434871  1.93340641 1.89775879 1.79979127 1.71425687 1.6665206\n",
      " 1.64586898 1.57439278 1.49915782 1.44717861 1.3877913  1.3189689\n",
      " 1.22307009 1.09310876 0.94706975 0.79597279 0.653135   0.58321098\n",
      " 0.55661057]\n",
      "=============== specific_humidity =================\n",
      "=============== temperature =================\n",
      "[0.76687614 1.22644608 0.90231296 0.5701453  0.47675715 0.43688464\n",
      " 0.32066163 0.49343175 0.64991725 0.34944546 0.34652132 0.31118025\n",
      " 0.30938702 0.31718787 0.30423712 0.30516763 0.31821833 0.35687152]\n",
      "=============== u_component_of_wind =================\n",
      "[1.2797378  0.84879403 0.74227862 0.570653   0.54521863 0.66388586\n",
      " 0.75090028 0.73652592 1.0613635  1.27339881 1.20420097 1.19190746\n",
      " 1.28295884 1.35265572 1.43807916 1.47453445 1.47487229 1.44925961]\n",
      "=============== v_component_of_wind =================\n",
      "[3.08710143 2.69639528 2.02355074 1.48362788 1.44293815 1.56168115\n",
      " 1.52106658 1.38918468 1.73468858 1.96121432 1.87557047 1.82570402\n",
      " 1.89825311 1.96124144 1.98033101 1.94106742 1.88662251 1.87236488]\n"
     ]
    }
   ],
   "source": [
    "# ------------------------------------------------------- #\n",
    "# Compare with my old ones\n",
    "base_dir_plevel = '/glade/derecho/scratch/ksha/CREDIT_data/ERA5_plevel_1deg/'\n",
    "new_std = xr.open_dataset(base_dir+'mean_std/residual_6h_1979_2019_conserve_1deg.nc')\n",
    "old_std = xr.open_dataset(base_dir_plevel+'mean_std/residual_6h_1979_2019_conserve_1deg.nc')\n",
    "\n",
    "for varname in varnames:\n",
    "    try:\n",
    "        print('=============== {} ================='.format(varname))\n",
    "        print(np.array(new_std[varname]))\n",
    "        print(np.array(old_std[varname]))\n",
    "    except:\n",
    "        pass"
   ]
  },
  {
   "cell_type": "code",
   "execution_count": null,
   "id": "772652bc-f21c-453f-adcf-996305856ba6",
   "metadata": {},
   "outputs": [],
   "source": []
  }
 ],
 "metadata": {
  "kernelspec": {
   "display_name": "Python 3 (ipykernel)",
   "language": "python",
   "name": "python3"
  },
  "language_info": {
   "codemirror_mode": {
    "name": "ipython",
    "version": 3
   },
   "file_extension": ".py",
   "mimetype": "text/x-python",
   "name": "python",
   "nbconvert_exporter": "python",
   "pygments_lexer": "ipython3",
   "version": "3.11.9"
  }
 },
 "nbformat": 4,
 "nbformat_minor": 5
}
