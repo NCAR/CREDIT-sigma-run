{
 "cells": [
  {
   "cell_type": "markdown",
   "id": "1c1007ab-3e4c-4e6e-9eb7-89673f20f310",
   "metadata": {},
   "source": [
    "# IMERG data preprocessing"
   ]
  },
  {
   "cell_type": "markdown",
   "id": "d2474a11-5602-41ba-ae86-09e3785c0b54",
   "metadata": {},
   "source": [
    "**Data Access**: https://disc.gsfc.nasa.gov/datasets/GPM_3IMERGDF_07/summary\n",
    "\n",
    "-----------------\n",
    "\n",
    "## GPM IMERG Final Precipitation L3 1 day 0.1 degree x 0.1 degree V07\n",
    "\n",
    "NASA/GSFC/SED/ESD/GCDC/GESDISC\n",
    "\n",
    "Version 07 is the current version of the data set. Older versions will no longer be available and have been superseded by Version 07. The Integrated Multi-satellitE Retrievals for GPM (IMERG) IMERG is a NASA product estimating global surface precipitation rates at a high resolution of 0.1° every half-hour beginning 2000. \n",
    "\n",
    "It is part of the joint NASA-JAXA Global Precipitation Measurement (GPM) mission, using the GPM Core Observatory satellite as the standard to combine precipitation observations from an international constellation of satellites using advanced techniques. \n",
    "\n",
    "IMERG can be used for global-scale applications as well as over regions with sparse or no reliable surface observations. The fine spatial and temporal resolution of IMERG data allows them to be accumulated to the scale of the application for increased skill. \n",
    "\n",
    "IMERG has three Runs with varying latencies in response to a range of application needs: rapid-response applications (Early Run, 4-h latency), same/next-day applications (Late Run, 14-h latency), and post-real-time research (Final Run, 3.5-month latency). \n",
    "\n",
    "While IMERG strives for consistency and accuracy, satellite estimates of precipitation are expected to have lower skill over frozen surfaces, complex terrain, and coastal zones. As well, the changing GPM satellite constellation over time may introduce artifacts that affect studies focusing on multi-year changes. \n",
    "\n",
    "This dataset is the GPM Level 3 IMERG *Final* Daily 10 x 10 km (GPM_3IMERGDF) derived from the half-hourly GPM_3IMERGHH. The derived result represents the Final estimate of the daily mean precipitation rate in mm/day. The dataset is produced by first computing the mean precipitation rate in (mm/hour) in every grid cell, and then multiplying the result by 24. This minimizes the possible dry bias in versions before \"07\", in the simple daily totals for cells where less than 48 half-hourly observations are valid for the day. The latter under-sampling is very rare in the combined microwave-infrared and rain gauge dataset, variable \"precipitation\", and appears in higher latitudes. Thus, in most cases users of global \"precipitation\" data will not notice any difference. This correction, however, is noticeable in the high-quality microwave retrieval, variable \"MWprecipitation\", where the occurrence of less than 48 valid half-hourly samples per day is very common. The counts of the valid half-hourly samples per day have always been provided as a separate variable, and users of daily data were advised to pay close attention to that variable and use it to calculate the correct precipitation daily rates. Starting with version \"07\", this is done in production to minimize possible misinterpretations of the data. The counts are still provided in the data, but they are only given to gauge the significance of the daily rates, and reconstruct the simple totals if someone wishes to do so. "
   ]
  },
  {
   "cell_type": "code",
   "execution_count": 1,
   "id": "d250e3b8-eeda-4b66-80e4-fb3a19f0eac1",
   "metadata": {},
   "outputs": [],
   "source": [
    "import os\n",
    "import sys\n",
    "import yaml\n",
    "import dask\n",
    "import zarr\n",
    "import numpy as np\n",
    "import xarray as xr\n",
    "import pandas as pd\n",
    "from glob import glob\n",
    "\n",
    "import calendar\n",
    "from datetime import datetime, timedelta\n",
    "from dateutil.relativedelta import relativedelta\n",
    "\n",
    "sys.path.insert(0, os.path.realpath('../libs/'))\n",
    "import verif_utils as vu"
   ]
  },
  {
   "cell_type": "code",
   "execution_count": 2,
   "id": "d2cb714f-9d0b-4b6f-b640-4cf744a998bd",
   "metadata": {},
   "outputs": [],
   "source": [
    "base_dir = '/glade/campaign/cisl/aiml/ksha/IMERG_V7/daily/'\n",
    "output_dir = '/glade/campaign/cisl/aiml/ksha/IMERG_V7/daily/gather_yearly/'"
   ]
  },
  {
   "cell_type": "code",
   "execution_count": 3,
   "id": "2cc137d6-e21f-4d9f-a2ec-ee7612b4a2b5",
   "metadata": {
    "scrolled": true
   },
   "outputs": [],
   "source": [
    "files = sorted(glob(base_dir+'*.nc4'))"
   ]
  },
  {
   "cell_type": "code",
   "execution_count": 4,
   "id": "784da7b4-ec48-416a-948d-54ea86df2bdd",
   "metadata": {},
   "outputs": [],
   "source": [
    "varname_drop = [\n",
    "    'precipitation_cnt', 'precipitation_cnt_cond', 'MWprecipitation', 'MWprecipitation_cnt', 'time_bnds',\n",
    "    'MWprecipitation_cnt_cond', 'randomError', 'randomError_cnt', 'probabilityLiquidPrecipitation'\n",
    "]\n",
    "\n",
    "dict_rename = {\n",
    "    'lon': 'longitude',\n",
    "    'lat': 'latitude'\n",
    "}"
   ]
  },
  {
   "cell_type": "code",
   "execution_count": 5,
   "id": "80c4fe8b-715b-48d7-835a-c6ed1b6bb36a",
   "metadata": {},
   "outputs": [],
   "source": [
    "for year in range(2000, 2010):\n",
    "    \n",
    "    print(f'Processing year {year}')\n",
    "    ds_collection = []\n",
    "    files = sorted(glob(base_dir+f'3B-DAY.MS.MRG.3IMERG.{year}*.nc4'))\n",
    "    assert len(files) >= 365, f'year {year} has missing files'\n",
    "    \n",
    "    for fn in files:\n",
    "        ds = xr.open_dataset(fn)\n",
    "        ds = ds.drop_vars(varname_drop)\n",
    "        ds = ds.rename(dict_rename)\n",
    "        ds['latitude'] = ds['latitude'].astype('float32')\n",
    "        ds['longitude'] = ds['longitude'].astype('float32')\n",
    "        ds.attrs = {} # clear attributes\n",
    "        ds_collection.append(ds)\n",
    "    \n",
    "    ds_all = xr.concat(ds_collection, dim='time')\n",
    "    ds_all = ds_all.assign_coords(time=ds_all['time'] + pd.Timedelta(days=1))\n",
    "    \n",
    "    save_names = output_dir + f'year_{year}.zarr'\n",
    "    # ds_all.to_zarr(save_names, mode='w')\n",
    "    print(f'Save to {save_names}')"
   ]
  },
  {
   "cell_type": "markdown",
   "id": "b7fe747b-ed3f-4575-97ad-e7d5b3926f16",
   "metadata": {},
   "source": [
    "## Note: IMERG time is NOT ending time"
   ]
  },
  {
   "cell_type": "code",
   "execution_count": 10,
   "id": "e1a4f4b4-e40b-42e1-8ba7-d3b57465410d",
   "metadata": {},
   "outputs": [],
   "source": [
    "ds = xr.open_dataset(fn)"
   ]
  },
  {
   "cell_type": "code",
   "execution_count": 13,
   "id": "58cfb59b-fe50-44c1-9536-505c9f19ac62",
   "metadata": {},
   "outputs": [
    {
     "data": {
      "text/plain": [
       "array([['2009-12-31T00:00:00.000000000', '2009-12-31T23:59:59.000026752']],\n",
       "      dtype='datetime64[ns]')"
      ]
     },
     "execution_count": 13,
     "metadata": {},
     "output_type": "execute_result"
    }
   ],
   "source": [
    "ds['time_bnds'].values"
   ]
  },
  {
   "cell_type": "code",
   "execution_count": 15,
   "id": "bc352e39-0563-4732-8f56-e5121ae51843",
   "metadata": {},
   "outputs": [
    {
     "data": {
      "text/plain": [
       "array(['2009-12-31T00:00:00.000000000'], dtype='datetime64[ns]')"
      ]
     },
     "execution_count": 15,
     "metadata": {},
     "output_type": "execute_result"
    }
   ],
   "source": [
    "ds['time'].values"
   ]
  },
  {
   "cell_type": "code",
   "execution_count": null,
   "id": "8037071e-e4e0-4b22-9b2c-9dc8d77ab003",
   "metadata": {},
   "outputs": [],
   "source": []
  }
 ],
 "metadata": {
  "kernelspec": {
   "display_name": "Python 3 (ipykernel)",
   "language": "python",
   "name": "python3"
  },
  "language_info": {
   "codemirror_mode": {
    "name": "ipython",
    "version": 3
   },
   "file_extension": ".py",
   "mimetype": "text/x-python",
   "name": "python",
   "nbconvert_exporter": "python",
   "pygments_lexer": "ipython3",
   "version": "3.11.9"
  }
 },
 "nbformat": 4,
 "nbformat_minor": 5
}
