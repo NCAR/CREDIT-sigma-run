{
 "cells": [
  {
   "cell_type": "markdown",
   "id": "e0a4df16-11d0-429c-bd7a-a0738f7a0609",
   "metadata": {},
   "source": [
    "# Find the example case"
   ]
  },
  {
   "cell_type": "code",
   "execution_count": 1,
   "id": "5a85f7e2-fdc2-480a-8465-7f5e3ec83b8c",
   "metadata": {},
   "outputs": [],
   "source": [
    "import os\n",
    "import sys\n",
    "import yaml\n",
    "import xarray as xr\n",
    "import numpy as np\n",
    "from glob import glob"
   ]
  },
  {
   "cell_type": "code",
   "execution_count": 2,
   "id": "e2158bc6-4d6a-46a3-9797-5a2f2600decb",
   "metadata": {},
   "outputs": [],
   "source": [
    "import matplotlib.pyplot as plt\n",
    "%matplotlib inline"
   ]
  },
  {
   "cell_type": "code",
   "execution_count": 3,
   "id": "082b606d-74b2-4e77-8d5d-aa827745abb2",
   "metadata": {},
   "outputs": [],
   "source": [
    "sys.path.insert(0, os.path.realpath('../libs/'))\n",
    "import verif_utils as vu"
   ]
  },
  {
   "cell_type": "code",
   "execution_count": 4,
   "id": "5f46adbc-751c-4e74-8da5-edac4fff0bfe",
   "metadata": {},
   "outputs": [],
   "source": [
    "config_name = os.path.realpath('verif_config.yml')\n",
    "\n",
    "with open(config_name, 'r') as stream:\n",
    "    conf = yaml.safe_load(stream)"
   ]
  },
  {
   "cell_type": "code",
   "execution_count": 5,
   "id": "14079614-25b6-4c1a-87f2-bc782acb462d",
   "metadata": {},
   "outputs": [],
   "source": [
    "fn_plevel = sorted(\n",
    "    glob(\n",
    "        '/glade/derecho/scratch/ksha/CREDIT_data/ERA5_plevel_1deg/upper_subset/ERA5_subset_1deg_6h_*_conserve.zarr'\n",
    "    )\n",
    ")\n",
    "\n",
    "variable_levels = {\n",
    "    'total_precipitation': None,\n",
    "}\n",
    "\n",
    "variable_levels_plevel = {\n",
    "    'U': [11], # 850 hPa\n",
    "    'V': [11],\n",
    "    'specific_total_water': [11,],\n",
    "    'total_precipitation': None\n",
    "}\n",
    "\n",
    "variable_levels_IFS = {\n",
    "    'u_component_of_wind': [10,], # 925 hPa\n",
    "    'v_component_of_wind': [10,],\n",
    "    'specific_humidity': [10,],\n",
    "    'total_precipitation': None\n",
    "}\n",
    "\n",
    "variable_levels_mlevel = {\n",
    "    'U_mlevel': [14], # 850 hPa\n",
    "    'V_mlevel': [14],\n",
    "    'specific_total_water_mlevel': [14,],\n",
    "    'total_precipitation': None\n",
    "}"
   ]
  },
  {
   "cell_type": "code",
   "execution_count": 6,
   "id": "b70b1f45-7f08-4f49-b062-6aefaed0cbf1",
   "metadata": {},
   "outputs": [],
   "source": [
    "ds_IMERG = xr.open_zarr(\n",
    "    '/glade/campaign/cisl/aiml/ksha/IMERG_V7/GPM_3B_V07/year_2020_1deg_interp.zarr'\n",
    ")"
   ]
  },
  {
   "cell_type": "code",
   "execution_count": 7,
   "id": "773aca42-a8fe-4e33-9bfc-7a8641dca743",
   "metadata": {},
   "outputs": [],
   "source": [
    "ind_6h = 128 - 2 - 4\n",
    "ind_daily = 31 - 1\n",
    "\n",
    "lead_ind = 19 - 2 #39\n",
    "lead_ind_daily = 4 #9\n",
    "\n",
    "ind_daily_fcst = ind_daily - lead_ind_daily"
   ]
  },
  {
   "cell_type": "code",
   "execution_count": 8,
   "id": "7beb486a-d982-4d14-bdbe-8bbcb0072cc0",
   "metadata": {},
   "outputs": [],
   "source": [
    "dict_example = {}"
   ]
  },
  {
   "cell_type": "code",
   "execution_count": 9,
   "id": "d35f018f-a605-4ee8-8d13-e24e06872888",
   "metadata": {},
   "outputs": [
    {
     "name": "stdout",
     "output_type": "stream",
     "text": [
      "2020-01-31T12:00:00.000000000\n",
      "2020-02-01T00:00:00.000000000\n"
     ]
    }
   ],
   "source": [
    "fn_example = fn_plevel[41]\n",
    "ds_example = xr.open_zarr(fn_example)\n",
    "\n",
    "U = ds_example['U'].isel(level=10).values[ind_6h, 30:50, 180:280]\n",
    "V = ds_example['V'].isel(level=10).values[ind_6h, 30:50, 180:280]\n",
    "Q = ds_example['specific_total_water'].isel(level=10).values[ind_6h, 30:50, 180:280]\n",
    "print(ds_example['time'].values[ind_6h])\n",
    "\n",
    "# IMERG tp\n",
    "TP = ds_IMERG['total_precipitation'].isel(time=ind_daily).values[30:50, 180:280]\n",
    "print(ds_IMERG['time'].values[ind_daily])\n",
    "\n",
    "dict_example['ERA5_U'] = U\n",
    "dict_example['ERA5_V'] = V\n",
    "dict_example['ERA5_Q'] = Q\n",
    "dict_example['IMERG_TP'] = TP"
   ]
  },
  {
   "cell_type": "code",
   "execution_count": 10,
   "id": "67adeffb-766b-41e9-bd83-b013e27d835f",
   "metadata": {},
   "outputs": [],
   "source": [
    "for model_name in ['fuxi_mlevel_dry', 'fuxi_mlevel_physics']:\n",
    "    filename_OURS = sorted(glob(conf[model_name]['save_loc_gather']+'*2020*.nc'))\n",
    "    filename_OURS = [fn for fn in filename_OURS if '00Z' in fn]\n",
    "    \n",
    "    ds_collect = []\n",
    "    ds_collect_daily = []\n",
    "    \n",
    "    for fn_ours in filename_OURS[:40]:\n",
    "        # detect 00Z vs 12Z\n",
    "        ini = int(fn_ours[-6:-4])\n",
    "        \n",
    "        ds_ours = xr.open_dataset(fn_ours)\n",
    "        ds_ours = vu.ds_subset_everything(ds_ours, variable_levels_mlevel)\n",
    "        ds_collect.append(ds_ours.isel(time=lead_ind))\n",
    "        \n",
    "        ds_ours = vu.ds_subset_everything(ds_ours, variable_levels)\n",
    "        ds_ours_24h = vu.accum_6h_24h(ds_ours, 0)\n",
    "        ds_ours_24h = ds_ours_24h.isel(time=lead_ind_daily)\n",
    "        ds_collect_daily.append(ds_ours_24h)\n",
    "        \n",
    "    # Combine verif results\n",
    "    ds_fcst = xr.concat(ds_collect, dim='time')\n",
    "    ds_fcst_daily = xr.concat(ds_collect_daily, dim='time')\n",
    "    \n",
    "    dict_example[f'{model_name}_TP'] = ds_fcst_daily['total_precipitation'].values[ind_daily_fcst, 30:50, 180:280]\n",
    "    dict_example[f'{model_name}_U'] = ds_fcst['U_mlevel'].values[ind_daily_fcst, 0, 30:50, 180:280]\n",
    "    dict_example[f'{model_name}_V'] = ds_fcst['V_mlevel'].values[ind_daily_fcst, 0, 30:50, 180:280]\n",
    "    dict_example[f'{model_name}_Q'] = ds_fcst['specific_total_water_mlevel'].values[ind_daily_fcst, 0, 30:50, 180:280]\n"
   ]
  },
  {
   "cell_type": "code",
   "execution_count": 11,
   "id": "14d6fed4-29bb-4f54-824f-6fbb6b6f58a1",
   "metadata": {},
   "outputs": [],
   "source": [
    "model_name = 'fuxi_physics'\n",
    "\n",
    "filename_OURS = sorted(glob(conf[model_name]['save_loc_gather']+'*2020*.nc'))\n",
    "filename_OURS = [fn for fn in filename_OURS if '00Z' in fn]\n",
    "\n",
    "ds_collect = []\n",
    "ds_collect_daily = []\n",
    "\n",
    "for fn_ours in filename_OURS[:40]:\n",
    "    # detect 00Z vs 12Z\n",
    "    ini = int(fn_ours[-6:-4])\n",
    "    \n",
    "    ds_ours = xr.open_dataset(fn_ours)\n",
    "    ds_ours = vu.ds_subset_everything(ds_ours, variable_levels_plevel)\n",
    "    ds_collect.append(ds_ours.isel(time=lead_ind))\n",
    "    \n",
    "    ds_ours = vu.ds_subset_everything(ds_ours, variable_levels)\n",
    "    ds_ours_24h = vu.accum_6h_24h(ds_ours, 0)\n",
    "    ds_ours_24h = ds_ours_24h.isel(time=lead_ind_daily)\n",
    "    ds_collect_daily.append(ds_ours_24h)\n",
    "    \n",
    "# Combine verif results\n",
    "ds_fcst = xr.concat(ds_collect, dim='time')\n",
    "ds_fcst_daily = xr.concat(ds_collect_daily, dim='time')\n",
    "\n",
    "dict_example[f'{model_name}_TP'] = ds_fcst_daily['total_precipitation'].values[ind_daily_fcst, 30:50, 180:280]\n",
    "dict_example[f'{model_name}_U'] = ds_fcst['U'].values[ind_daily_fcst, 0, 30:50, 180:280]\n",
    "dict_example[f'{model_name}_V'] = ds_fcst['V'].values[ind_daily_fcst, 0, 30:50, 180:280]\n",
    "dict_example[f'{model_name}_Q'] = ds_fcst['specific_total_water'].values[ind_daily_fcst, 0, 30:50, 180:280]"
   ]
  },
  {
   "cell_type": "code",
   "execution_count": 12,
   "id": "3573a5cb-6e49-47a3-8924-c1d1fd3d6300",
   "metadata": {},
   "outputs": [],
   "source": [
    "# IFS level array([  50,  100,  150,  200,  250,  300,  400,  500,  600,  700,  850,  925, 1000], dtype=int32)"
   ]
  },
  {
   "cell_type": "code",
   "execution_count": 13,
   "id": "fd7bcec8-8edc-47e5-abec-2418fac94594",
   "metadata": {},
   "outputs": [],
   "source": [
    "model_name = 'IFS'\n",
    "\n",
    "filename_OURS = sorted(glob(conf[model_name]['save_loc_gather']+'*2020*.nc'))\n",
    "filename_OURS = [fn for fn in filename_OURS if '00Z' in fn]\n",
    "\n",
    "ds_collect = []\n",
    "ds_collect_daily = []\n",
    "\n",
    "for fn_ours in filename_OURS[:40]:\n",
    "    # detect 00Z vs 12Z\n",
    "    ini = int(fn_ours[-6:-4])\n",
    "    \n",
    "    ds_ours = xr.open_dataset(fn_ours)\n",
    "    ds_ours = vu.ds_subset_everything(ds_ours, variable_levels_IFS)\n",
    "    ds_collect.append(ds_ours.isel(time=lead_ind))\n",
    "    \n",
    "    ds_ours = vu.ds_subset_everything(ds_ours, variable_levels)\n",
    "    ds_ours_24h = vu.accum_6h_24h(ds_ours, 0)\n",
    "    ds_ours_24h = ds_ours_24h.isel(time=lead_ind_daily)\n",
    "    ds_collect_daily.append(ds_ours_24h)\n",
    "    \n",
    "# Combine verif results\n",
    "ds_fcst = xr.concat(ds_collect, dim='time')\n",
    "ds_fcst_daily = xr.concat(ds_collect_daily, dim='time')\n",
    "\n",
    "dict_example[f'{model_name}_TP'] = ds_fcst_daily['total_precipitation'].values[ind_daily_fcst, 30:50, 180:280]\n",
    "dict_example[f'{model_name}_U'] = ds_fcst['u_component_of_wind'].values[ind_daily_fcst, 0, 30:50, 180:280]\n",
    "dict_example[f'{model_name}_V'] = ds_fcst['v_component_of_wind'].values[ind_daily_fcst, 0, 30:50, 180:280]\n",
    "dict_example[f'{model_name}_Q'] = ds_fcst['specific_humidity'].values[ind_daily_fcst, 0, 30:50, 180:280]"
   ]
  },
  {
   "cell_type": "code",
   "execution_count": 14,
   "id": "3876d28b-e324-458e-a527-d396dd936cdb",
   "metadata": {},
   "outputs": [
    {
     "data": {
      "text/plain": [
       "dict_keys(['ERA5_U', 'ERA5_V', 'ERA5_Q', 'IMERG_TP', 'fuxi_mlevel_dry_TP', 'fuxi_mlevel_dry_U', 'fuxi_mlevel_dry_V', 'fuxi_mlevel_dry_Q', 'fuxi_mlevel_physics_TP', 'fuxi_mlevel_physics_U', 'fuxi_mlevel_physics_V', 'fuxi_mlevel_physics_Q', 'fuxi_physics_TP', 'fuxi_physics_U', 'fuxi_physics_V', 'fuxi_physics_Q', 'IFS_TP', 'IFS_U', 'IFS_V', 'IFS_Q'])"
      ]
     },
     "execution_count": 14,
     "metadata": {},
     "output_type": "execute_result"
    }
   ],
   "source": [
    "dict_example.keys()"
   ]
  },
  {
   "cell_type": "code",
   "execution_count": 19,
   "id": "0f52272b-a01c-48c2-ba9d-29c7c37e557e",
   "metadata": {},
   "outputs": [],
   "source": [
    "latitude = ds_example['latitude'].values[30:50]\n",
    "longitude = ds_example['longitude'].values[180:280]\n",
    "gridx, gridy = np.meshgrid(longitude, latitude)\n",
    "\n",
    "dict_example['latitude'] = latitude\n",
    "dict_example['longitude'] = longitude\n",
    "dict_example['time_str'] = 'Lead time: 5-day; fcst time: 2020-02-01T00:00:00; init time: 2020-01-28T00:00:00'"
   ]
  },
  {
   "cell_type": "code",
   "execution_count": 20,
   "id": "0f6be07e-71c6-4d3a-82ec-a4f8e9c059d3",
   "metadata": {},
   "outputs": [],
   "source": [
    "save_name = '/glade/campaign/cisl/aiml/ksha/CREDIT_cp/VERIF/example_case.npy'"
   ]
  },
  {
   "cell_type": "code",
   "execution_count": 21,
   "id": "191f440a-2c9f-4437-9714-3cc8a35e8651",
   "metadata": {},
   "outputs": [],
   "source": [
    "np.save(save_name, dict_example)"
   ]
  },
  {
   "cell_type": "code",
   "execution_count": 18,
   "id": "33be5317-f0c4-4091-9d6c-65d29f71e0bf",
   "metadata": {},
   "outputs": [],
   "source": [
    "# fig, ax = plt.subplots(figsize=(7, 3))\n",
    "\n",
    "# cf = ax.pcolormesh(gridx, gridy, dict_example[f'{model_name}_TP'], cmap=plt.cm.nipy_spectral_r)\n",
    "# cbar = fig.colorbar(cf, ax=ax, label='TP')\n",
    "\n",
    "# skip = (slice(None, None, 3), slice(None, None, 3))\n",
    "# U_quiv = dict_example[f'{model_name}_U'][skip]\n",
    "# V_quiv = dict_example[f'{model_name}_V'][skip]\n",
    "# gridx_quiv = gridx[skip]\n",
    "# gridy_quiv = gridy[skip]\n",
    "\n",
    "# # Overlay the horizontal wind vectors as quiver arrows.\n",
    "# ax.quiver(gridx_quiv, gridy_quiv, U_quiv, V_quiv,\n",
    "#           color='k', scale=300)"
   ]
  },
  {
   "cell_type": "code",
   "execution_count": null,
   "id": "65682c01-7fb3-448c-8e7a-7f32d01fa844",
   "metadata": {},
   "outputs": [],
   "source": []
  },
  {
   "cell_type": "code",
   "execution_count": null,
   "id": "0848af08-1865-4541-a181-6d71d17b2d77",
   "metadata": {},
   "outputs": [],
   "source": []
  },
  {
   "cell_type": "code",
   "execution_count": 19,
   "id": "841d0ae3-86f8-4ae9-8127-b1aabf4a1595",
   "metadata": {},
   "outputs": [],
   "source": [
    "# for i_time in range(1464):\n",
    "#     if np.max(TP[i_time, ...]) > 0.025:\n",
    "#         fig, ax = plt.subplots(figsize=(7, 3))\n",
    "    \n",
    "#         cf = ax.pcolormesh(gridx, gridy, TP[i_time, ...], cmap=plt.cm.nipy_spectral_r)\n",
    "#         cbar = fig.colorbar(cf, ax=ax, label='TP')\n",
    "        \n",
    "#         skip = (slice(None, None, 3), slice(None, None, 3))\n",
    "#         U_quiv = U[i_time, ...][skip]\n",
    "#         V_quiv = V[i_time, ...][skip]\n",
    "#         gridx_quiv = gridx[skip]\n",
    "#         gridy_quiv = gridy[skip]\n",
    "        \n",
    "#         # Overlay the horizontal wind vectors as quiver arrows.\n",
    "#         ax.quiver(gridx_quiv, gridy_quiv, U_quiv, V_quiv,\n",
    "#                   color='k', scale=300)\n",
    "        \n",
    "#         ax.set_title(f'time index = {i_time}', fontsize=14)"
   ]
  },
  {
   "cell_type": "code",
   "execution_count": null,
   "id": "d553c642-6b9c-4daa-afdc-fc59c44eb7a6",
   "metadata": {},
   "outputs": [],
   "source": []
  }
 ],
 "metadata": {
  "kernelspec": {
   "display_name": "Python 3 (ipykernel)",
   "language": "python",
   "name": "python3"
  },
  "language_info": {
   "codemirror_mode": {
    "name": "ipython",
    "version": 3
   },
   "file_extension": ".py",
   "mimetype": "text/x-python",
   "name": "python",
   "nbconvert_exporter": "python",
   "pygments_lexer": "ipython3",
   "version": "3.11.9"
  }
 },
 "nbformat": 4,
 "nbformat_minor": 5
}
