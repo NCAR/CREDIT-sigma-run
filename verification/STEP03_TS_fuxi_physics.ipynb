{
 "cells": [
  {
   "cell_type": "markdown",
   "id": "ac814c7e-dee1-4b45-9239-8d9cd98b9ada",
   "metadata": {},
   "source": [
    "# FuXi TS from IMERG"
   ]
  },
  {
   "cell_type": "code",
   "execution_count": 1,
   "id": "8deb4be5-9191-4fb6-afb1-9b6c2351f719",
   "metadata": {},
   "outputs": [],
   "source": [
    "import os\n",
    "import sys\n",
    "import yaml\n",
    "from glob import glob\n",
    "from datetime import datetime, timedelta\n",
    "\n",
    "import numpy as np\n",
    "import xarray as xr\n",
    "import pandas as pd"
   ]
  },
  {
   "cell_type": "code",
   "execution_count": 2,
   "id": "cbb5d545-cc77-464d-9704-173ea0a307c0",
   "metadata": {},
   "outputs": [],
   "source": [
    "import matplotlib.pyplot as plt\n",
    "%matplotlib inline"
   ]
  },
  {
   "cell_type": "code",
   "execution_count": 3,
   "id": "4f276d5d-e0b9-4639-911f-44566f18e248",
   "metadata": {},
   "outputs": [],
   "source": [
    "sys.path.insert(0, os.path.realpath('../libs/'))\n",
    "import verif_utils as vu\n",
    "import score_utils as su"
   ]
  },
  {
   "cell_type": "code",
   "execution_count": 4,
   "id": "04614252-cb60-44ef-afa4-3732f1a34dae",
   "metadata": {},
   "outputs": [],
   "source": [
    "config_name = os.path.realpath('verif_config.yml')\n",
    "\n",
    "with open(config_name, 'r') as stream:\n",
    "    conf = yaml.safe_load(stream)"
   ]
  },
  {
   "cell_type": "code",
   "execution_count": 5,
   "id": "9df393c4-af29-4ef1-857c-403bd2342dcb",
   "metadata": {},
   "outputs": [],
   "source": [
    "model_name = 'fuxi_mlevel_physics'\n",
    "ind_lead = 0"
   ]
  },
  {
   "cell_type": "code",
   "execution_count": 6,
   "id": "78708828-93ce-4ac9-80dd-5f9b40cd80a4",
   "metadata": {},
   "outputs": [],
   "source": [
    "verif_ind_start = 0; verif_ind_end = 2*(365+366)\n",
    "path_verif = conf[model_name]['save_loc_verif']+'combined_TS_{:03d}d_{}.npy'.format(\n",
    "    ind_lead, model_name)"
   ]
  },
  {
   "cell_type": "markdown",
   "id": "7bbb12c4-f60e-4398-adde-bfb7367c544d",
   "metadata": {},
   "source": [
    "## Verification setup"
   ]
  },
  {
   "cell_type": "code",
   "execution_count": 7,
   "id": "83616592-60ee-47a1-ab48-1fdbb2edd662",
   "metadata": {},
   "outputs": [],
   "source": [
    "list_thres = 1e-3*np.array([0.5, 1.0, 5, 10, 25])\n",
    "result_ = np.empty((len(list_thres), 3)) # 1st col = all grids; 2nd col = land grids"
   ]
  },
  {
   "cell_type": "code",
   "execution_count": 8,
   "id": "3d809745-9355-4240-8153-22d475f94342",
   "metadata": {},
   "outputs": [],
   "source": [
    "ds_static = xr.open_zarr(\n",
    "    '/glade/derecho/scratch/ksha/CREDIT_data/ERA5_mlevel_1deg/static/ERA5_mlevel_1deg_static_for_interp.zarr'\n",
    ")\n",
    "lsm = ds_static['land_sea_mask'].values\n",
    "\n",
    "variable_levels = {\n",
    "    'total_precipitation': None,\n",
    "}"
   ]
  },
  {
   "cell_type": "code",
   "execution_count": 9,
   "id": "5d9d3246-64ea-497c-aeb2-9702b62fe591",
   "metadata": {},
   "outputs": [],
   "source": [
    "# ---------------------------------------------------------------------------------------- #\n",
    "# ERA5 verif target\n",
    "filename_ERA5 = sorted(glob('/glade/campaign/cisl/aiml/ksha/IMERG_V7/daily/gather_yearly/year_*_1deg_interp.zarr'))\n",
    "\n",
    "# pick years\n",
    "year_range = conf['ERA5_ours']['year_range']\n",
    "years_pick = np.arange(year_range[0], year_range[1]+1, 1).astype(str)\n",
    "filename_ERA5 = [fn for fn in filename_ERA5 if any(year in fn for year in years_pick)]\n",
    "\n",
    "# merge yearly ERA5 as one\n",
    "ds_ERA5 = [vu.get_forward_data(fn) for fn in filename_ERA5]\n",
    "ds_ERA5_merge = xr.concat(ds_ERA5, dim='time')\n",
    "\n",
    "# ---------------------------------------------------------------------------------------- #\n",
    "# forecast\n",
    "filename_OURS = sorted(glob(conf[model_name]['save_loc_gather']+'*.nc'))\n",
    "\n",
    "# pick years\n",
    "year_range = conf[model_name]['year_range']\n",
    "years_pick = np.arange(year_range[0], year_range[1]+1, 1).astype(str)\n",
    "filename_OURS = [fn for fn in filename_OURS if any(year in fn for year in years_pick)]\n",
    "\n",
    "L_max = len(filename_OURS)\n",
    "assert verif_ind_end <= L_max, 'verified indices (days) exceeds the max index available'\n",
    "\n",
    "filename_OURS = filename_OURS[verif_ind_start:verif_ind_end]\n",
    "filename_OURS = [fn for fn in filename_OURS if '00Z' in fn]\n",
    "\n",
    "# latitude weighting\n",
    "lat = xr.open_dataset(filename_OURS[0])[\"latitude\"]\n",
    "w_lat = np.cos(np.deg2rad(lat))\n",
    "w_lat = w_lat / w_lat.mean()"
   ]
  },
  {
   "cell_type": "code",
   "execution_count": 13,
   "id": "62b53182-2b2e-40f3-b265-0a250e7d0246",
   "metadata": {},
   "outputs": [],
   "source": [
    "# ---------------------------------------------------------------------------------------- #\n",
    "# RMSE compute\n",
    "ds_ours_all = []\n",
    "ds_ERA5_all = []\n",
    "\n",
    "for fn_ours in filename_OURS[:3]:\n",
    "    # detect 00Z vs 12Z\n",
    "    ini = int(fn_ours[-6:-4])\n",
    "    \n",
    "    ds_ours = xr.open_dataset(fn_ours)\n",
    "    ds_ours = vu.ds_subset_everything(ds_ours, variable_levels)\n",
    "    \n",
    "    # ------------------------------------------- #\n",
    "    # convert neg precip to 0 before accumulation \n",
    "    ds_ours['total_precipitation'] = xr.where(\n",
    "        ds_ours['total_precipitation'] < 0, 0, ds_ours['total_precipitation']\n",
    "    )\n",
    "    \n",
    "    ds_ours_24h = vu.accum_6h_24h(ds_ours, ini)\n",
    "    ds_ours_24h = ds_ours_24h.isel(time=ind_lead)\n",
    "    ds_ours_all.append(ds_ours_24h)\n",
    "    \n",
    "    ds_target = ds_ERA5_merge.sel(time=ds_ours_24h['time'])\n",
    "    ds_target = vu.ds_subset_everything(ds_target, variable_levels)\n",
    "    ds_ERA5_all.append(ds_target)\n",
    "\n",
    "ds_ours_concat = xr.concat(ds_ours_all, dim='time')\n",
    "ds_ERA5_concat = xr.concat(ds_ERA5_all, dim='time')\n",
    "\n",
    "for i_thres, thres in enumerate(list_thres):\n",
    "    ts_full = su.compute_ts(ds_ours_concat, ds_ERA5_concat, threshold=thres)\n",
    "    ts_land = su.compute_ts_land_only(ds_ours_concat, ds_ERA5_concat, lsm, threshold=thres)\n",
    "    ts_mid = su.compute_ts_midlat(ds_ours_concat, ds_ERA5_concat, threshold=thres)\n",
    "    result_[i_thres, 0] = ts_full # <-- full domain\n",
    "    result_[i_thres, 1] = ts_land # <-- land only\n",
    "    result_[i_thres, 2] = ts_mid # <-- 60S - 60N\n",
    "\n",
    "#np.save(path_verif, result_)"
   ]
  },
  {
   "cell_type": "code",
   "execution_count": null,
   "id": "761ac982-0a97-4b79-b9d8-127ab23b4a7a",
   "metadata": {},
   "outputs": [],
   "source": []
  }
 ],
 "metadata": {
  "kernelspec": {
   "display_name": "Python 3 (ipykernel)",
   "language": "python",
   "name": "python3"
  },
  "language_info": {
   "codemirror_mode": {
    "name": "ipython",
    "version": 3
   },
   "file_extension": ".py",
   "mimetype": "text/x-python",
   "name": "python",
   "nbconvert_exporter": "python",
   "pygments_lexer": "ipython3",
   "version": "3.11.9"
  }
 },
 "nbformat": 4,
 "nbformat_minor": 5
}
