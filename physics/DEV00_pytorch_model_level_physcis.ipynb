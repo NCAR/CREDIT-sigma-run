{
 "cells": [
  {
   "cell_type": "markdown",
   "id": "233753c4-f8c0-42d9-a0c8-a190038f49d3",
   "metadata": {},
   "source": [
    "# Global-scale atmospheric mass and energy conservations on hybrid sigma-pressure level data"
   ]
  },
  {
   "cell_type": "code",
   "execution_count": 1,
   "id": "c88a2547-ee20-4ccb-8395-e5805cefaba4",
   "metadata": {},
   "outputs": [],
   "source": [
    "import torch\n",
    "import numpy as np\n",
    "import xarray as xr"
   ]
  },
  {
   "cell_type": "code",
   "execution_count": 2,
   "id": "8bf50516-904d-415a-ab0d-d4986d2be045",
   "metadata": {},
   "outputs": [],
   "source": [
    "from typing import Dict, Any, Optional"
   ]
  },
  {
   "cell_type": "markdown",
   "id": "9030a384-f996-4a42-8f1f-16ea52d149c2",
   "metadata": {},
   "source": [
    "### Load data"
   ]
  },
  {
   "cell_type": "code",
   "execution_count": 3,
   "id": "0ab54e3c-2251-49a8-99ad-93430bba26d6",
   "metadata": {},
   "outputs": [],
   "source": [
    "base_dir = '/glade/derecho/scratch/ksha/CREDIT_data/ERA5_mlevel_1deg/'\n",
    "filename = base_dir + 'all_in_one/ERA5_mlevel_1deg_6h_subset_1980_conserve.zarr'\n",
    "\n",
    "ds_surf = xr.open_zarr(filename)\n",
    "ds_accum = xr.open_zarr(filename)\n",
    "ds_upper = xr.open_zarr(filename)\n",
    "ds_static = xr.open_zarr(base_dir + 'static/ERA5_mlevel_1deg_static_subset.zarr')"
   ]
  },
  {
   "cell_type": "code",
   "execution_count": 4,
   "id": "206c0efa-1c74-4596-b8f2-20727d061559",
   "metadata": {},
   "outputs": [],
   "source": [
    "x = ds_surf['longitude']\n",
    "y = ds_surf['latitude']\n",
    "\n",
    "lon, lat = np.meshgrid(x, y)"
   ]
  },
  {
   "cell_type": "code",
   "execution_count": 5,
   "id": "059f0cde-0fba-4d8c-9a23-12417bc0d2dd",
   "metadata": {},
   "outputs": [],
   "source": [
    "mlevel = ds_upper['level'].values"
   ]
  },
  {
   "cell_type": "code",
   "execution_count": 6,
   "id": "b55b3faa-8b04-43f1-b20c-a2ef6b564560",
   "metadata": {},
   "outputs": [
    {
     "data": {
      "text/plain": [
       "array([  1.,   9.,  19.,  29.,  39.,  49.,  59.,  69.,  79.,  89.,  97.,\n",
       "       104., 111., 116., 122., 126., 131., 136.], dtype=float32)"
      ]
     },
     "execution_count": 6,
     "metadata": {},
     "output_type": "execute_result"
    }
   ],
   "source": [
    "mlevel[:31]"
   ]
  },
  {
   "cell_type": "code",
   "execution_count": 7,
   "id": "8a97e089-bdd0-463b-87da-8f1c5175d9bf",
   "metadata": {},
   "outputs": [],
   "source": [
    "coef_a = ds_static['coef_a'].values\n",
    "coef_b = ds_static['coef_b'].values\n",
    "\n",
    "tensor_shape = (len(coef_b)-1,) + lon.shape"
   ]
  },
  {
   "cell_type": "markdown",
   "id": "33c6e48e-3712-4f1c-a6e2-b8b963e194a9",
   "metadata": {},
   "source": [
    "### Convert data to `torch.Tensor`"
   ]
  },
  {
   "cell_type": "code",
   "execution_count": 8,
   "id": "86bae29b-857e-43ce-9bf8-3cf1b975aac7",
   "metadata": {},
   "outputs": [],
   "source": [
    "batch_size = 16\n",
    "target_shape_4D = (batch_size, 2)+tensor_shape\n",
    "target_shape_3D = (batch_size, 2,)+tensor_shape[1:]\n",
    "\n",
    "t_slice = np.arange(batch_size+1)"
   ]
  },
  {
   "cell_type": "code",
   "execution_count": 9,
   "id": "537ccbe9-3293-4ea4-a08e-ed7a28bec1fd",
   "metadata": {},
   "outputs": [],
   "source": [
    "# (batch, time, level, lat, lon) version\n",
    "def time_series_to_batch(q, target_shape):\n",
    "    q_batch = torch.as_strided(\n",
    "        q, size=target_shape, \n",
    "        stride=(q.stride(0), q.stride(0), *q.stride()[1:]))\n",
    "    return q_batch"
   ]
  },
  {
   "cell_type": "code",
   "execution_count": 10,
   "id": "b9cf44db-54b5-4139-a5ff-3e4d84f99502",
   "metadata": {},
   "outputs": [],
   "source": [
    "sp = torch.from_numpy(np.array(ds_surf['SP'].isel(time=t_slice))) # Pa\n",
    "\n",
    "q = torch.from_numpy(np.array(ds_upper['specific_total_water'].isel(time=t_slice))) # kg/kg\n",
    "T = torch.from_numpy(np.array(ds_upper['temperature'].isel(time=t_slice))) # kg/kg\n",
    "u = torch.from_numpy(np.array(ds_upper['u_component_of_wind'].isel(time=t_slice))) # m/s\n",
    "v = torch.from_numpy(np.array(ds_upper['v_component_of_wind'].isel(time=t_slice)))\n",
    "precip = torch.from_numpy(np.array(ds_accum['total_precipitation'].isel(time=t_slice)))\n",
    "evapor = torch.from_numpy(np.array(ds_accum['evaporation'].isel(time=t_slice)))\n",
    "\n",
    "GPH_surf = torch.from_numpy(np.array(ds_static['geopotential_at_surface'])) # J/m2\n",
    "TOA_net = torch.from_numpy(np.array(ds_accum['top_net_solar_radiation'].isel(time=t_slice))) # J/m2\n",
    "OLR = torch.from_numpy(np.array(ds_accum['top_net_thermal_radiation'].isel(time=t_slice))) # J/m2\n",
    "R_short = torch.from_numpy(np.array(ds_accum['surface_net_solar_radiation'].isel(time=t_slice))) # J/m2\n",
    "R_long = torch.from_numpy(np.array(ds_accum['surface_net_thermal_radiation'].isel(time=t_slice))) # J/m2\n",
    "LH = torch.from_numpy(np.array(ds_accum['surface_latent_heat_flux'].isel(time=t_slice))) # J/m2\n",
    "SH = torch.from_numpy(np.array(ds_accum['surface_sensible_heat_flux'].isel(time=t_slice))) # J/m2"
   ]
  },
  {
   "cell_type": "code",
   "execution_count": 11,
   "id": "c45e7886-df26-465b-8a2e-a532b9d579b7",
   "metadata": {},
   "outputs": [],
   "source": [
    "sp_batch = time_series_to_batch(sp, target_shape_3D)\n",
    "\n",
    "q_batch = time_series_to_batch(q, target_shape_4D).permute(0, 2, 1, 3, 4)\n",
    "T_batch = time_series_to_batch(T, target_shape_4D).permute(0, 2, 1, 3, 4)\n",
    "u_batch = time_series_to_batch(u, target_shape_4D).permute(0, 2, 1, 3, 4)\n",
    "v_batch = time_series_to_batch(v, target_shape_4D).permute(0, 2, 1, 3, 4)\n",
    "precip_batch = time_series_to_batch(precip, target_shape_3D)\n",
    "evapor_batch = time_series_to_batch(evapor, target_shape_3D)\n",
    "\n",
    "GPH_surf_batch = GPH_surf.unsqueeze(0).unsqueeze(0).unsqueeze(0)\n",
    "TOA_net_batch = time_series_to_batch(TOA_net, target_shape_3D)\n",
    "OLR_batch = time_series_to_batch(OLR, target_shape_3D)\n",
    "R_short_batch = time_series_to_batch(R_short, target_shape_3D)\n",
    "R_long_batch = time_series_to_batch(R_long, target_shape_3D)\n",
    "LH_batch = time_series_to_batch(LH, target_shape_3D)\n",
    "SH_batch = time_series_to_batch(SH, target_shape_3D)"
   ]
  },
  {
   "cell_type": "code",
   "execution_count": 12,
   "id": "a5aeba04-6c49-4ef5-a6ed-0eaa609dedee",
   "metadata": {},
   "outputs": [],
   "source": [
    "longitude = torch.from_numpy(lon)\n",
    "latitude = torch.from_numpy(lat)\n",
    "coef_a = torch.from_numpy(coef_a)\n",
    "coef_b = torch.from_numpy(coef_b)"
   ]
  },
  {
   "cell_type": "markdown",
   "id": "01df5edf-87b8-4746-ba4a-150ca875e0fa",
   "metadata": {},
   "source": [
    "### `credit.physics_core` pressure level class"
   ]
  },
  {
   "cell_type": "code",
   "execution_count": 13,
   "id": "d0362770-0bcf-4a13-887e-83bd15e04d26",
   "metadata": {},
   "outputs": [],
   "source": [
    "# Earth's radius\n",
    "RAD_EARTH = 6371000 # m\n",
    "RVGAS = 461.5 # J/kg/K\n",
    "RDGAS = 287.05 # J/kg/K\n",
    "GRAVITY = 9.80665 # m/s^2\n",
    "RHO_WATER = 1000.0 # kg/m^3\n",
    "LH_WATER = 2.501e6  # J/kg\n",
    "LH_ICE = 333700 # J/kg\n",
    "CP_DRY = 1004.64 # J/kg K\n",
    "CP_VAPOR = 1810.0 # J/kg K\n",
    "CP_LIQUID = 4188.0 # J/kg K\n",
    "CP_ICE = 2117.27 # J/kg K"
   ]
  },
  {
   "cell_type": "code",
   "execution_count": 14,
   "id": "d6883a56-e969-46db-ab92-f25ecf438cfe",
   "metadata": {},
   "outputs": [],
   "source": [
    "class physics_hybrid_sigma_level:\n",
    "    '''\n",
    "    Hybrid sigma-pressure level physics\n",
    "\n",
    "    Attributes:\n",
    "        lon (torch.Tensor): Longitude in degrees.\n",
    "        lat (torch.Tensor): Latitude in degrees.\n",
    "        surface_pressure (torch.Tensor): Surface pressure in Pa.\n",
    "        coef_a (torch.Tensor): Hybrid sigma-pressure coefficient 'a' [Pa].\n",
    "        coef_b (torch.Tensor): Hybrid sigma-pressure coefficient 'b' [unitless].\n",
    "        pressure (torch.Tensor): Pressure at each hybrid sigma level [Pa].\n",
    "        pressure_thickness (torch.Tensor): Pressure thickness between levels [Pa].\n",
    "        area (torch.Tensor): Area of grid cells [m^2].\n",
    "        integral (function): Vertical integration method (midpoint or trapezoidal).\n",
    "    '''\n",
    "\n",
    "    def __init__(self,\n",
    "                 lon: torch.Tensor,\n",
    "                 lat: torch.Tensor,\n",
    "                 coef_a: torch.Tensor,\n",
    "                 coef_b: torch.Tensor,\n",
    "                 midpoint: bool = False):\n",
    "        '''\n",
    "        Initialize the class with longitude, latitude, and hybrid sigma-pressure levels.\n",
    "\n",
    "        All inputs must be on the same torch device.\n",
    "\n",
    "        Full order of dimensions: (batch, level, time, latitude, longitude)\n",
    "\n",
    "        Args:\n",
    "            lon (torch.Tensor): Longitude in degrees.\n",
    "            lat (torch.Tensor): Latitude in degrees.\n",
    "            coef_a (torch.Tensor): Hybrid sigma-pressure coefficient 'a' [Pa] (level,).\n",
    "            coef_b (torch.Tensor): Hybrid sigma-pressure coefficient 'b' [unitless] (level,).\n",
    "            midpoint (bool): True if vertical level quantities are midpoint values; otherwise False.\n",
    "\n",
    "        Note:\n",
    "            pressure = coef_a + coef_b * surface_pressure\n",
    "        '''\n",
    "        self.lon = lon\n",
    "        self.lat = lat\n",
    "        self.coef_a = coef_a  # (level,)\n",
    "        self.coef_b = coef_b  # (level,)\n",
    "\n",
    "        # ========================================================================= #\n",
    "        # Compute pressure on each hybrid sigma level\n",
    "        # Reshape coef_a and coef_b for broadcasting\n",
    "        self.coef_a = coef_a.view(1, -1, 1, 1, 1)  # (1, level, 1, 1, 1)\n",
    "        self.coef_b = coef_b.view(1, -1, 1, 1, 1)  # (1, level, 1, 1, 1)\n",
    "        \n",
    "        # ========================================================================= #\n",
    "        # compute gtid area\n",
    "        # area = R^2 * d_sin(lat) * d_lon\n",
    "        lat_rad = torch.deg2rad(self.lat)\n",
    "        lon_rad = torch.deg2rad(self.lon)\n",
    "        sin_lat_rad = torch.sin(lat_rad)\n",
    "        d_phi = torch.gradient(sin_lat_rad, dim=0, edge_order=2)[0]\n",
    "        d_lambda = torch.gradient(lon_rad, dim=1, edge_order=2)[0]\n",
    "        d_lambda = (d_lambda + torch.pi) % (2 * torch.pi) - torch.pi\n",
    "        self.area = torch.abs(RAD_EARTH**2 * d_phi * d_lambda)\n",
    "\n",
    "        # ========================================================================== #\n",
    "        # Vertical integration method\n",
    "        if midpoint:\n",
    "            self.integral = self.pressure_integral_midpoint\n",
    "            self.integral_sliced = self.pressure_integral_midpoint_sliced\n",
    "        else:\n",
    "            self.integral = self.pressure_integral_trapz\n",
    "            self.integral_sliced = self.pressure_integral_trapz_sliced\n",
    "\n",
    "    def pressure_integral_midpoint(self, \n",
    "                                   q_mid: torch.Tensor,\n",
    "                                   surface_pressure: torch.Tensor,) -> torch.Tensor:\n",
    "        '''\n",
    "        Compute the pressure level integral of a given quantity; assuming its mid-point\n",
    "        values are pre-computed.\n",
    "\n",
    "        Args:\n",
    "            q_mid: The quantity with dims of (batch, level-1, time, latitude, longitude)\n",
    "            surface_pressure: Surface pressure in Pa (batch, time, latitude, longitude).\n",
    "\n",
    "        Returns:\n",
    "            Pressure level integrals of q\n",
    "        '''\n",
    "        surface_pressure = surface_pressure.unsqueeze(1)  # (batch, 1, time, lat, lon)\n",
    "        pressure = self.coef_a + self.coef_b * surface_pressure  # (batch, level, time, lat, lon)        \n",
    "        delta_p = pressure.diff(dim=1).to(q_mid.device)  # (batch, level-1, time, lat, lon)\n",
    "        q_area = q_mid * delta_p  # Element-wise multiplication\n",
    "        q_integral = torch.sum(q_area, dim=1)  # Sum over level dimension\n",
    "        return q_integral\n",
    "        \n",
    "    def pressure_integral_midpoint_sliced(self,\n",
    "                                          q_mid: torch.Tensor,\n",
    "                                          surface_pressure: torch.Tensor,\n",
    "                                          ind_start: int,\n",
    "                                          ind_end: int) -> torch.Tensor:\n",
    "        '''\n",
    "        As in `pressure_integral_midpoint`, but supports pressure level indexing,\n",
    "        so it can calculate integrals of a subset of levels.\n",
    "        '''\n",
    "        surface_pressure = surface_pressure.unsqueeze(1)  # (batch, 1, time, lat, lon)\n",
    "        pressure = self.coef_a + self.coef_b * surface_pressure  # (batch, level, time, lat, lon)\n",
    "        pressure_thickness = pressure.diff(dim=1)  # (batch, level-1, time, lat, lon)\n",
    "        delta_p = pressure_thickness[:, ind_start:ind_end, :, :, :].to(q_mid.device)\n",
    "        \n",
    "        q_mid_sliced = q_mid[:, ind_start:ind_end, :, :, :]\n",
    "        q_area = q_mid_sliced * delta_p\n",
    "        q_integral = torch.sum(q_area, dim=1)\n",
    "        return q_integral\n",
    "\n",
    "    def pressure_integral_trapz(self, \n",
    "                                q: torch.Tensor,\n",
    "                                surface_pressure: torch.Tensor) -> torch.Tensor:\n",
    "        '''\n",
    "        Compute the pressure level integral of a given quantity using the trapezoidal rule.\n",
    "\n",
    "        Args:\n",
    "            q: The quantity with dims of (batch, level, time, latitude, longitude)\n",
    "\n",
    "        Returns:\n",
    "            Pressure level integrals of q\n",
    "        '''\n",
    "        surface_pressure = surface_pressure.unsqueeze(1)  # (batch, 1, time, lat, lon)\n",
    "        pressure = self.coef_a + self.coef_b * surface_pressure  # (batch, level, time, lat, lon)\n",
    "        delta_p = pressure.diff(dim=1).to(q.device)  # (batch, level-1, time, lat, lon)\n",
    "        q1 = q[:, :-1, :, :, :]  # (batch, level-1, time, lat, lon)\n",
    "        q2 = q[:, 1:, :, :, :]   # (batch, level-1, time, lat, lon)\n",
    "        q_area = 0.5 * (q1 + q2) * delta_p  # Trapezoidal rule\n",
    "        q_trapz = torch.sum(q_area, dim=1)  # Sum over level dimension\n",
    "        return q_trapz\n",
    "\n",
    "    def pressure_integral_trapz_sliced(self,\n",
    "                                       q: torch.Tensor,\n",
    "                                       surface_pressure: torch.Tensor,\n",
    "                                       ind_start: int,\n",
    "                                       ind_end: int) -> torch.Tensor:\n",
    "        '''\n",
    "        As in `pressure_integral_trapz`, but supports pressure level indexing,\n",
    "        so it can calculate integrals of a subset of levels.\n",
    "        '''\n",
    "        surface_pressure = surface_pressure.unsqueeze(1)  # (batch, 1, time, lat, lon)\n",
    "        pressure = self.coef_a + self.coef_b * surface_pressure  # (batch, level, time, lat, lon)\n",
    "        delta_p = pressure[:, ind_start:ind_end, :, :, :].diff(dim=1).to(q.device)\n",
    "        \n",
    "        q_slice = q[:, ind_start:ind_end, :, :, :]\n",
    "        q1 = q_slice[:, :-1, :, :, :]\n",
    "        q2 = q_slice[:, 1:, :, :, :]\n",
    "        q_area = 0.5 * (q1 + q2) * delta_p\n",
    "        q_trapz = torch.sum(q_area, dim=1)\n",
    "        return q_trapz\n",
    "\n",
    "    def weighted_sum(self,\n",
    "                     q: torch.Tensor,\n",
    "                     axis: Dict[tuple, None] = None, \n",
    "                     keepdims: bool = False) -> torch.Tensor:\n",
    "        '''\n",
    "        Compute the weighted sum of a given quantity for PyTorch tensors.\n",
    "        \n",
    "        Args:\n",
    "            data: the quantity to be summed (PyTorch tensor)\n",
    "            axis: dims to compute the sum (can be int or tuple of ints)\n",
    "            keepdims: whether to keep the reduced dimensions or not\n",
    "    \n",
    "        Returns:\n",
    "            Weighted sum (PyTorch tensor)\n",
    "        '''\n",
    "        q_w = q * self.area.to(q.device)\n",
    "        q_sum = torch.sum(q_w, dim=axis, keepdim=keepdims)\n",
    "        return q_sum\n",
    "\n",
    "    def total_dry_air_mass(self, \n",
    "                           q: torch.Tensor,\n",
    "                           surface_pressure: torch.Tensor) -> torch.Tensor:\n",
    "        '''\n",
    "        Compute the total mass of dry air over the entire globe [kg]\n",
    "        '''\n",
    "        mass_dry_per_area = self.integral(1-q, surface_pressure) / GRAVITY # kg/m^2\n",
    "        # weighted sum on latitude and longitude dimensions\n",
    "        mass_dry_sum = self.weighted_sum(mass_dry_per_area, axis=(-2, -1)) # kg\n",
    "        \n",
    "        return mass_dry_sum\n",
    "\n",
    "    def total_column_water(self, \n",
    "                           q: torch.Tensor,\n",
    "                           surface_pressure: torch.Tensor,) -> torch.Tensor:\n",
    "        '''\n",
    "        Compute total column water (TCW) per air column [kg/m2]\n",
    "        '''\n",
    "        TWC = self.integral(q, surface_pressure) / GRAVITY # kg/m^2\n",
    "        \n",
    "        return TWC\n"
   ]
  },
  {
   "cell_type": "code",
   "execution_count": 15,
   "id": "398b3e98-9e6b-4d58-ab99-3bec9dfe44d4",
   "metadata": {
    "editable": true,
    "slideshow": {
     "slide_type": ""
    },
    "tags": []
   },
   "outputs": [],
   "source": [
    "flag_midpoint = True\n",
    "physics_core = physics_hybrid_sigma_level(longitude, latitude, coef_a, coef_b, midpoint=flag_midpoint)"
   ]
  },
  {
   "cell_type": "markdown",
   "id": "97a9c20b-f035-4a23-ab66-0056d0529b3e",
   "metadata": {},
   "source": [
    "## Conservation of total dry air mass"
   ]
  },
  {
   "cell_type": "code",
   "execution_count": 16,
   "id": "56876d3b-303f-4d02-a5df-40f6a981398c",
   "metadata": {},
   "outputs": [],
   "source": [
    "ind_fix = 7\n",
    "\n",
    "if flag_midpoint:\n",
    "    ind_fix_start = ind_fix\n",
    "else:\n",
    "    ind_fix_start = ind_fix-1\n",
    "\n",
    "N_levels = len(coef_a)-1"
   ]
  },
  {
   "cell_type": "code",
   "execution_count": 17,
   "id": "4bfb618a-33ac-49f5-b31c-7f57fb275f58",
   "metadata": {
    "editable": true,
    "slideshow": {
     "slide_type": ""
    },
    "tags": []
   },
   "outputs": [
    {
     "name": "stdout",
     "output_type": "stream",
     "text": [
      "Residual to conserve the dry air mass [kg]: tensor([ 3.6834e+13,  3.0511e+14,  4.0132e+13, -3.3700e+14,  1.5943e+13,\n",
      "         1.6493e+12,  1.9241e+13, -2.4519e+14,  1.0995e+12,  2.3530e+14,\n",
      "         3.6284e+13, -1.1710e+14,  2.2540e+13,  4.0132e+13,  2.1440e+13,\n",
      "        -2.1276e+14])\n"
     ]
    }
   ],
   "source": [
    "q_batch_correct = q_batch.clone()\n",
    "sp_batch_correct = sp_batch.clone()\n",
    "\n",
    "mass_dry_per_area_hold = physics_core.integral_sliced(1-q_batch_correct, sp_batch_correct, 0, ind_fix) / GRAVITY\n",
    "mass_dry_sum_hold = physics_core.weighted_sum(mass_dry_per_area_hold, axis=(-2, -1))\n",
    "\n",
    "mass_dry_per_area_fix = physics_core.integral_sliced(1-q_batch_correct, sp_batch_correct, ind_fix_start, N_levels) / GRAVITY\n",
    "mass_dry_sum_fix = physics_core.weighted_sum(mass_dry_per_area_fix, axis=(-2, -1))\n",
    "\n",
    "mass_dry_sum = mass_dry_sum_hold + mass_dry_sum_fix\n",
    "\n",
    "# ------------------------------------------------------------------------------ #\n",
    "# check residual term\n",
    "mass_dry_res = mass_dry_sum[:, 1] - mass_dry_sum[:, 0]\n",
    "print('Residual to conserve the dry air mass [kg]: {}'.format(mass_dry_res))\n",
    "# ------------------------------------------------------------------------------ #\n",
    "\n",
    "mass_residual_on_fix = mass_dry_sum[:, 0] - mass_dry_sum_hold[:, 1]\n",
    "\n",
    "# Compute the ratio\n",
    "q_correct_ratio = mass_residual_on_fix / mass_dry_sum_fix[:, 1]\n",
    "q_correct_ratio = q_correct_ratio.unsqueeze(-1).unsqueeze(-1).unsqueeze(-1)\n",
    "q_batch_correct[:, ind_fix-1:, 1, ...] = 1 - (1 - q_batch_correct[:, ind_fix-1:, 1, ...]) * q_correct_ratio\n",
    "\n",
    "mass_dry_sum = physics_core.total_dry_air_mass(q_batch_correct, sp_batch_correct)\n",
    "\n",
    "delta_coef_a = coef_a.diff()\n",
    "delta_coef_b = coef_b.diff()\n",
    "\n",
    "if flag_midpoint:\n",
    "    p_dry_a = ((delta_coef_a.unsqueeze(0).unsqueeze(2).unsqueeze(3).unsqueeze(4)) * (1 - q_batch_correct)).sum(1)\n",
    "    p_dry_b = ((delta_coef_b.unsqueeze(0).unsqueeze(2).unsqueeze(3).unsqueeze(4)) * (1 - q_batch_correct)).sum(1)\n",
    "else:\n",
    "    q_mid = (q_batch_correct[:, :-1, ...] + q_batch_correct[:, 1:, ...]) / 2\n",
    "    p_dry_a = ((delta_coef_a.unsqueeze(0).unsqueeze(2).unsqueeze(3).unsqueeze(4)) * (1 - q_mid)).sum(1)\n",
    "    p_dry_b = ((delta_coef_b.unsqueeze(0).unsqueeze(2).unsqueeze(3).unsqueeze(4)) * (1 - q_mid)).sum(1)\n",
    "    \n",
    "mass_dry_a = (p_dry_a * physics_core.area.unsqueeze(0).unsqueeze(0)).sum((-2, -1)) / GRAVITY\n",
    "mass_dry_b = (p_dry_b * sp_batch_correct * physics_core.area.unsqueeze(0).unsqueeze(0)).sum((-2, -1)) / GRAVITY\n",
    "\n",
    "# sp correction ratio using t0 dry air mass and t1 moisture\n",
    "sp_correct_ratio = (mass_dry_sum[:, 0, ...] - mass_dry_a[:, 1, ...]) / mass_dry_b[:, 1, ...]\n",
    "sp_correct_ratio = sp_correct_ratio.unsqueeze(-1).unsqueeze(-1)\n",
    "sp_batch_correct[:, 1, ...] = sp_correct_ratio * sp_batch_correct[:, 1, ...]"
   ]
  },
  {
   "cell_type": "code",
   "execution_count": 19,
   "id": "a8a3b1f0-2796-4b1e-b477-5fa7829272bc",
   "metadata": {},
   "outputs": [
    {
     "name": "stdout",
     "output_type": "stream",
     "text": [
      "Residual to conserve the dry air mass [kg]: tensor([ 0.0000e+00,  0.0000e+00, -5.4976e+11,  0.0000e+00,  0.0000e+00,\n",
      "         0.0000e+00,  1.0995e+12,  0.0000e+00,  5.4976e+11, -5.4976e+11,\n",
      "         0.0000e+00,  0.0000e+00,  0.0000e+00,  5.4976e+11,  5.4976e+11,\n",
      "         0.0000e+00])\n"
     ]
    }
   ],
   "source": [
    "# ------------------------------------------------------------------------------ #\n",
    "mass_dry_sum = physics_core.total_dry_air_mass(q_batch_correct, sp_batch_correct)\n",
    "mass_dry_res = mass_dry_sum[:, 1] - mass_dry_sum[:, 0]\n",
    "print('Residual to conserve the dry air mass [kg]: {}'.format(mass_dry_res))\n",
    "# ------------------------------------------------------------------------------ #"
   ]
  },
  {
   "cell_type": "code",
   "execution_count": 20,
   "id": "0364a8f8-edce-4d83-909e-5ce764424c97",
   "metadata": {},
   "outputs": [
    {
     "data": {
      "text/plain": [
       "tensor(7.3224e-05)"
      ]
     },
     "execution_count": 20,
     "metadata": {},
     "output_type": "execute_result"
    }
   ],
   "source": [
    "(q_batch_correct - q_batch).abs().max()"
   ]
  },
  {
   "cell_type": "code",
   "execution_count": 21,
   "id": "209dcf6f-a9c8-4ca5-b898-75de909eb339",
   "metadata": {},
   "outputs": [
    {
     "data": {
      "text/plain": [
       "tensor(0.3359)"
      ]
     },
     "execution_count": 21,
     "metadata": {},
     "output_type": "execute_result"
    }
   ],
   "source": [
    "(sp_batch_correct - sp_batch).abs().max()"
   ]
  },
  {
   "cell_type": "markdown",
   "id": "7261f125-f88f-4652-9475-1694a35a7123",
   "metadata": {},
   "source": [
    "**Old**"
   ]
  },
  {
   "cell_type": "code",
   "execution_count": 20,
   "id": "03b722a4-37cb-43d0-9c04-938c872f5487",
   "metadata": {},
   "outputs": [
    {
     "name": "stdout",
     "output_type": "stream",
     "text": [
      "Residual to conserve the dry air mass [kg]: tensor([ 2.9687e+13,  3.1226e+14,  3.1336e+13, -3.3700e+14,  2.0341e+13,\n",
      "         5.4976e+11,  1.5943e+13, -2.4959e+14,  9.3458e+12,  2.3859e+14,\n",
      "         3.3535e+13, -1.1380e+14,  2.3090e+13,  4.2331e+13,  2.0341e+13,\n",
      "        -2.1331e+14])\n"
     ]
    }
   ],
   "source": [
    "q_batch_correct = q_batch.clone()\n",
    "\n",
    "correction_cycle_num = 1 # iterative to handle numrical precision\n",
    "\n",
    "for i in range(correction_cycle_num):\n",
    "    mass_dry_sum = physics_core.total_dry_air_mass(q_batch_correct, sp_batch)\n",
    "    \n",
    "    # ------------------------------------------------------------------------------ #\n",
    "    # check residual term\n",
    "    mass_dry_res = mass_dry_sum[:, 1] - mass_dry_sum[:, 0]\n",
    "    print('Residual to conserve the dry air mass [kg]: {}'.format(mass_dry_res))\n",
    "    # ------------------------------------------------------------------------------ #\n",
    "    \n",
    "    q_correct_ratio = mass_dry_sum[:, 0] / mass_dry_sum[:, 1]\n",
    "    q_correct_ratio = q_correct_ratio.unsqueeze(-1).unsqueeze(-1).unsqueeze(-1)\n",
    "    q_batch_correct[:, :, 1, ...] = 1 - (1 - q_batch_correct[:, :, 1, ...]) * q_correct_ratio"
   ]
  },
  {
   "cell_type": "code",
   "execution_count": 21,
   "id": "2560d306-6f1f-44b2-96c6-6d627a884010",
   "metadata": {},
   "outputs": [
    {
     "name": "stdout",
     "output_type": "stream",
     "text": [
      "Residual to conserve the dry air mass [kg]: tensor([ 0.0000e+00,  0.0000e+00,  0.0000e+00,  0.0000e+00,  5.4976e+11,\n",
      "         0.0000e+00,  5.4976e+11,  5.4976e+11,  5.4976e+11,  0.0000e+00,\n",
      "         0.0000e+00,  0.0000e+00,  0.0000e+00, -5.4976e+11,  0.0000e+00,\n",
      "        -1.0995e+12])\n"
     ]
    }
   ],
   "source": [
    "# ------------------------------------------------------------------------------ #\n",
    "mass_dry_sum = physics_core.total_dry_air_mass(q_batch_correct, sp_batch)\n",
    "mass_dry_res = mass_dry_sum[:, 1] - mass_dry_sum[:, 0]\n",
    "print('Residual to conserve the dry air mass [kg]: {}'.format(mass_dry_res))\n",
    "# ------------------------------------------------------------------------------ #"
   ]
  },
  {
   "cell_type": "code",
   "execution_count": 22,
   "id": "69f8cfba-679c-4b9a-9d99-77dab1cee21e",
   "metadata": {},
   "outputs": [
    {
     "data": {
      "text/plain": [
       "tensor(6.1125e-05)"
      ]
     },
     "execution_count": 22,
     "metadata": {},
     "output_type": "execute_result"
    }
   ],
   "source": [
    "(q_batch_correct - q_batch).max()"
   ]
  },
  {
   "cell_type": "markdown",
   "id": "da483aec-5cd7-41ce-8691-9eb30550834c",
   "metadata": {},
   "source": [
    "## Conservation of moisture"
   ]
  },
  {
   "cell_type": "code",
   "execution_count": 23,
   "id": "c75e2308-1387-4821-84d2-8e110169bf4c",
   "metadata": {},
   "outputs": [
    {
     "name": "stdout",
     "output_type": "stream",
     "text": [
      "Residual to conserve moisture budge [kg/s]: tensor([-1.5418e+09, -1.5883e+10, -2.3156e+09,  1.4763e+10, -1.1064e+09,\n",
      "        -1.2916e+09, -1.8417e+09,  1.0411e+10, -9.3729e+08, -1.1939e+10,\n",
      "        -2.1515e+09,  4.8960e+09, -1.1885e+09, -3.1335e+09, -1.5421e+09,\n",
      "         7.1912e+09])\n"
     ]
    }
   ],
   "source": [
    "N_seconds = 3600 * 6 # 6 hourly data\n",
    "\n",
    "precip_batch_flux = precip_batch[:, 1, ...] * RHO_WATER / N_seconds # m/hour --> kg/m^2/s, positive\n",
    "evapor_batch_flux = evapor_batch[:, 1, ...] * RHO_WATER / N_seconds # kg/m^2/s, negative\n",
    "\n",
    "precip_batch_correct = precip_batch_flux.clone()\n",
    "\n",
    "# pre-compute TWC\n",
    "TWC = physics_core.total_column_water(q_batch_correct, sp_batch)\n",
    "dTWC_dt = (TWC[:, 1, ...] - TWC[:, 0, ...]) / N_seconds # kg/m^2/s\n",
    "TWC_sum = physics_core.weighted_sum(dTWC_dt, axis=(-2, -1)) # kg/s\n",
    "\n",
    "# pre-compute evaporation\n",
    "E_sum = physics_core.weighted_sum(evapor_batch_flux, axis=(-2, -1)) # kg/s\n",
    "\n",
    "correction_cycle_num = 1\n",
    "\n",
    "for i in range(correction_cycle_num):\n",
    "    P_sum = physics_core.weighted_sum(precip_batch_correct, axis=(-2, -1)) # kg/s\n",
    "    residual = -TWC_sum - E_sum - P_sum # kg/s\n",
    "\n",
    "    # ------------------------------------------------------------------------------ #\n",
    "    print('Residual to conserve moisture budge [kg/s]: {}'.format(residual))\n",
    "    # ------------------------------------------------------------------------------ #\n",
    "    \n",
    "    # P_correct = P_sum + residual # kg/s\n",
    "    P_correct_ratio = (P_sum + residual) / P_sum\n",
    "    P_correct_ratio = P_correct_ratio.unsqueeze(-1).unsqueeze(-1)\n",
    "    precip_batch_correct = precip_batch_correct * P_correct_ratio"
   ]
  },
  {
   "cell_type": "code",
   "execution_count": 24,
   "id": "9dd8756f-7859-40ac-83a3-9de902ffec6b",
   "metadata": {},
   "outputs": [
    {
     "name": "stdout",
     "output_type": "stream",
     "text": [
      "Residual to conserve moisture budge [kg/s]: tensor([    0.,     0.,  1024., -2048.,     0.,  1024.,     0.,     0., -1024.,\n",
      "            0.,  1024.,     0.,  1024.,  1024.,  1024.,     0.])\n"
     ]
    }
   ],
   "source": [
    "# ------------------------------------------------------------------------------ #\n",
    "P_sum = physics_core.weighted_sum(precip_batch_correct, axis=(-2, -1)) # kg/s\n",
    "residual = -TWC_sum - E_sum - P_sum # kg/s\n",
    "print('Residual to conserve moisture budge [kg/s]: {}'.format(residual))\n",
    "# ------------------------------------------------------------------------------ #"
   ]
  },
  {
   "cell_type": "code",
   "execution_count": 25,
   "id": "6556ea30-bff2-4647-871b-1dae8024bd54",
   "metadata": {},
   "outputs": [
    {
     "data": {
      "text/plain": [
       "tensor(-7.0661e-07)"
      ]
     },
     "execution_count": 25,
     "metadata": {},
     "output_type": "execute_result"
    }
   ],
   "source": [
    "(precip_batch_correct - precip_batch_flux).mean()"
   ]
  },
  {
   "cell_type": "code",
   "execution_count": 26,
   "id": "19494f11-5d33-489e-b182-889f6b980c21",
   "metadata": {},
   "outputs": [
    {
     "data": {
      "text/plain": [
       "tensor(0.0022)"
      ]
     },
     "execution_count": 26,
     "metadata": {},
     "output_type": "execute_result"
    }
   ],
   "source": [
    "(precip_batch_correct - precip_batch_flux).max()"
   ]
  },
  {
   "cell_type": "markdown",
   "id": "1849ff22-0561-4550-a69a-4ea522a9a8ff",
   "metadata": {},
   "source": [
    "### Conservation of energy"
   ]
  },
  {
   "cell_type": "code",
   "execution_count": 27,
   "id": "c243538f-f550-47f8-b7a5-a7988850fec9",
   "metadata": {},
   "outputs": [
    {
     "name": "stdout",
     "output_type": "stream",
     "text": [
      "Residual to conserve energy budget [Watts]: tensor([-4.8474e+15, -5.8542e+16, -4.8065e+15,  4.1037e+16, -4.0271e+15,\n",
      "        -9.7805e+15, -3.2388e+15,  2.5913e+16, -3.0752e+15, -4.0709e+16,\n",
      "        -4.6738e+15,  1.4178e+16, -4.5057e+15, -1.7434e+16, -3.3635e+15,\n",
      "         1.6267e+16])\n",
      "Sources & sinks [Watts]: tensor([-8.8138e+15, -2.2061e+15, -3.2601e+15, -1.2018e+16, -9.7891e+15,\n",
      "        -2.2000e+15, -2.4414e+15, -1.0756e+16, -8.4184e+15, -1.1962e+15,\n",
      "        -1.5977e+15, -1.0163e+16, -7.5918e+15,  6.7430e+14,  1.1722e+15,\n",
      "        -6.8434e+15])\n",
      "Tendency [Watts]: tensor([-3.9664e+15,  5.6335e+16,  1.5464e+15, -5.3055e+16, -5.7620e+15,\n",
      "         7.5804e+15,  7.9741e+14, -3.6669e+16, -5.3433e+15,  3.9513e+16,\n",
      "         3.0761e+15, -2.4341e+16, -3.0860e+15,  1.8109e+16,  4.5357e+15,\n",
      "        -2.3110e+16])\n"
     ]
    }
   ],
   "source": [
    "N_seconds = 3600 * 6 # 6 hourly data\n",
    "\n",
    "# C_p (batch, time, level, lat, lon)\n",
    "C_p = (1 - q_batch_correct) * CP_DRY + q_batch_correct * CP_VAPOR\n",
    "# kinetic energy (batch, time, level, lat, lon)\n",
    "ken = 0.5 * (u_batch ** 2 + v_batch ** 2)\n",
    "\n",
    "# initialize T_correct\n",
    "T_batch_correct = T_batch.clone()\n",
    "\n",
    "# layer-wise atmospheric energy, but without thermal energy \n",
    "# (batch, time, level, lat, lon)\n",
    "E_qgk = LH_WATER * q_batch_correct + GPH_surf_batch + ken\n",
    "\n",
    "# TOA net energy flux (batch, time, lat, lon)\n",
    "R_T = (TOA_net_batch + OLR_batch) / N_seconds\n",
    "R_T = R_T[:, 1, :, :]\n",
    "# R_T global sum\n",
    "R_T_sum = physics_core.weighted_sum(R_T, axis=(-2, -1))\n",
    "\n",
    "# surface net energy flux (batch, time, lat, lon)\n",
    "F_S = (R_short_batch + R_long_batch + LH_batch + SH_batch) / N_seconds\n",
    "F_S = F_S[:, 1, :, :]  # Extract time index 1\n",
    "# F_S global sum\n",
    "F_S_sum = physics_core.weighted_sum(F_S, axis=(-2, -1))\n",
    "\n",
    "correction_cycle_num = 1\n",
    "\n",
    "for i in range(correction_cycle_num):\n",
    "\n",
    "    # layer-wise atmospheric energy (sensible heat + others)\n",
    "    #  (batch, time, level, lat, lon)\n",
    "    E_level = C_p * T_batch_correct + E_qgk\n",
    "\n",
    "    # total atmospheric energy (TE) of an air column\n",
    "    # (batch, time, lat, lon)\n",
    "    TE = physics_core.integral(E_level, sp_batch) / GRAVITY\n",
    "\n",
    "    # ---------------------------------------------------------------------------- #\n",
    "    # tendency of TE (batch, lat, lon)\n",
    "    dTE_dt = (TE[:, 1, :, :] - TE[:, 0, :, :]) / N_seconds\n",
    "    # global sum of TE tendency (batch,)\n",
    "    dTE_sum = physics_core.weighted_sum(dTE_dt, axis=(1, 2), keepdims=False)\n",
    "    # compute the residual (batch,)\n",
    "    delta_dTE_sum = (R_T_sum - F_S_sum) - dTE_sum\n",
    "    print('Residual to conserve energy budget [Watts]: {}'.format(delta_dTE_sum))\n",
    "    print('Sources & sinks [Watts]: {}'.format(R_T_sum - F_S_sum))\n",
    "    print('Tendency [Watts]: {}'.format(dTE_sum))\n",
    "    # ---------------------------------------------------------------------------- #\n",
    "\n",
    "    # TE at t0 and t1 (batch,)\n",
    "    total_weighted_TE_t0 = physics_core.weighted_sum(TE[:, 0, :, :], axis=(-2, -1)) \n",
    "    total_weighted_TE_t1 = physics_core.weighted_sum(TE[:, 1, :, :], axis=(-2, -1))\n",
    "\n",
    "    # calculate the correction ratio for E_t1 (batch,) --> (batch, 1, 1, 1)\n",
    "    E_correct_ratio = (N_seconds * (R_T_sum - F_S_sum) + total_weighted_TE_t0) / total_weighted_TE_t1\n",
    "    E_correct_ratio = E_correct_ratio.view(-1, 1, 1, 1)\n",
    "\n",
    "    # Apply the correction to layer-wise atmospheric energy at t1\n",
    "    # (batch, level, lat, lon)\n",
    "    E_t1_correct = E_level[:, :, 1, :, :] * E_correct_ratio\n",
    "\n",
    "    # barotropic correction of T at t1\n",
    "    T_batch_correct[:, :, 1, :, :] = (E_t1_correct - E_qgk[:, :, 1, :, :]) / C_p[:, :, 1, :, :]"
   ]
  },
  {
   "cell_type": "code",
   "execution_count": 28,
   "id": "b7895dc3-c929-4daf-b744-67b89b2330c7",
   "metadata": {},
   "outputs": [
    {
     "name": "stdout",
     "output_type": "stream",
     "text": [
      "Residual to conserve energy budget [Watts]: tensor([-2.9710e+12,  2.3767e+12, -4.2099e+12,  7.4958e+12,  3.9589e+12,\n",
      "         5.6746e+12, -2.2218e+12, -1.0437e+12, -2.0213e+12, -1.4498e+12,\n",
      "         5.2101e+12,  3.2760e+12,  1.5521e+12,  6.7621e+12,  3.4212e+11,\n",
      "        -2.6532e+12])\n"
     ]
    }
   ],
   "source": [
    "# ---------------------------------------------------------------------------- #\n",
    "E_level = C_p * T_batch_correct + E_qgk\n",
    "TE = physics_core.integral(E_level, sp_batch) / GRAVITY\n",
    "dTE_dt = (TE[:, 1, :, :] - TE[:, 0, :, :]) / N_seconds\n",
    "dTE_sum = physics_core.weighted_sum(dTE_dt, axis=(-2, -1), keepdims=False)\n",
    "energy_residual = dTE_sum - (R_T_sum - F_S_sum)\n",
    "print('Residual to conserve energy budget [Watts]: {}'.format(energy_residual))\n",
    "# ---------------------------------------------------------------------------- #"
   ]
  },
  {
   "cell_type": "code",
   "execution_count": 41,
   "id": "ef16b1fc-9a04-4b5f-8dbd-af997470a6ad",
   "metadata": {},
   "outputs": [
    {
     "data": {
      "text/plain": [
       "tensor(-0.0077)"
      ]
     },
     "execution_count": 41,
     "metadata": {},
     "output_type": "execute_result"
    }
   ],
   "source": [
    "(T_batch_correct - T_batch).mean()"
   ]
  },
  {
   "cell_type": "code",
   "execution_count": 42,
   "id": "581228f6-3905-4e88-a5f4-c376b753e081",
   "metadata": {},
   "outputs": [
    {
     "data": {
      "text/plain": [
       "tensor(0.3331)"
      ]
     },
     "execution_count": 42,
     "metadata": {},
     "output_type": "execute_result"
    }
   ],
   "source": [
    "(T_batch_correct - T_batch).abs().max()"
   ]
  },
  {
   "cell_type": "code",
   "execution_count": null,
   "id": "b45e50d1-0040-4e5e-98f2-b098dfeb1dad",
   "metadata": {},
   "outputs": [],
   "source": []
  }
 ],
 "metadata": {
  "kernelspec": {
   "display_name": "Python 3 (ipykernel)",
   "language": "python",
   "name": "python3"
  },
  "language_info": {
   "codemirror_mode": {
    "name": "ipython",
    "version": 3
   },
   "file_extension": ".py",
   "mimetype": "text/x-python",
   "name": "python",
   "nbconvert_exporter": "python",
   "pygments_lexer": "ipython3",
   "version": "3.11.9"
  }
 },
 "nbformat": 4,
 "nbformat_minor": 5
}
